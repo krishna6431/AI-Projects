{
 "cells": [
  {
   "cell_type": "markdown",
   "metadata": {
    "id": "3yF9Ut2_7VP3"
   },
   "source": [
    "## SMS Spam Filter Using Multinomial and Multivariate Naive Bayes Model\n",
    "\n"
   ]
  },
  {
   "cell_type": "markdown",
   "metadata": {
    "id": "NzzySqze7VP6"
   },
   "source": [
    "### 1. Importing and Preprocessing Data"
   ]
  },
  {
   "cell_type": "code",
   "execution_count": 4,
   "metadata": {
    "id": "rAh8x_w8hcQQ"
   },
   "outputs": [],
   "source": [
    "import pandas as pd\n",
    "import numpy as np\n",
    "from google.colab import files\n",
    "from sklearn.model_selection  import train_test_split\n",
    "from sklearn.feature_extraction.text import CountVectorizer\n",
    "from sklearn.naive_bayes import MultinomialNB\n",
    "from sklearn.naive_bayes import BernoulliNB\n",
    "from sklearn.model_selection import cross_val_score\n",
    "from sklearn import metrics\n",
    "import seaborn as sns\n",
    "import time\n",
    "import matplotlib.pyplot as plt\n",
    "from sklearn.metrics import roc_curve, auc\n",
    "from sklearn.model_selection import cross_validate as cvd\n",
    "from sklearn.metrics import make_scorer, accuracy_score, precision_score, recall_score, f1_score"
   ]
  },
  {
   "cell_type": "code",
   "execution_count": 1,
   "metadata": {
    "colab": {
     "base_uri": "https://localhost:8080/",
     "height": 73
    },
    "id": "p8kcexSfjYR2",
    "outputId": "7fd47c62-2ea8-4d18-fc1a-33903cae5b5c"
   },
   "outputs": [
    {
     "ename": "NameError",
     "evalue": "name 'files' is not defined",
     "output_type": "error",
     "traceback": [
      "\u001b[0;31m---------------------------------------------------------------------------\u001b[0m",
      "\u001b[0;31mNameError\u001b[0m                                 Traceback (most recent call last)",
      "Cell \u001b[0;32mIn [1], line 1\u001b[0m\n\u001b[0;32m----> 1\u001b[0m uploaded \u001b[38;5;241m=\u001b[39m \u001b[43mfiles\u001b[49m\u001b[38;5;241m.\u001b[39mupload()\n",
      "\u001b[0;31mNameError\u001b[0m: name 'files' is not defined"
     ]
    }
   ],
   "source": [
    "uploaded = files.upload()"
   ]
  },
  {
   "cell_type": "code",
   "execution_count": 56,
   "metadata": {
    "colab": {
     "base_uri": "https://localhost:8080/",
     "height": 206
    },
    "id": "N1ZeY6SS7VP7",
    "outputId": "0b50b0a7-1865-48f8-e0e4-21f61d244d48",
    "scrolled": true
   },
   "outputs": [
    {
     "data": {
      "text/html": [
       "\n",
       "  <div id=\"df-b830adf2-0562-4ae3-ae8e-8b51ae4d9cd5\">\n",
       "    <div class=\"colab-df-container\">\n",
       "      <div>\n",
       "<style scoped>\n",
       "    .dataframe tbody tr th:only-of-type {\n",
       "        vertical-align: middle;\n",
       "    }\n",
       "\n",
       "    .dataframe tbody tr th {\n",
       "        vertical-align: top;\n",
       "    }\n",
       "\n",
       "    .dataframe thead th {\n",
       "        text-align: right;\n",
       "    }\n",
       "</style>\n",
       "<table border=\"1\" class=\"dataframe\">\n",
       "  <thead>\n",
       "    <tr style=\"text-align: right;\">\n",
       "      <th></th>\n",
       "      <th>Class</th>\n",
       "      <th>sms</th>\n",
       "    </tr>\n",
       "  </thead>\n",
       "  <tbody>\n",
       "    <tr>\n",
       "      <th>0</th>\n",
       "      <td>ham</td>\n",
       "      <td>Go until jurong point, crazy.. Available only ...</td>\n",
       "    </tr>\n",
       "    <tr>\n",
       "      <th>1</th>\n",
       "      <td>ham</td>\n",
       "      <td>Ok lar... Joking wif u oni...</td>\n",
       "    </tr>\n",
       "    <tr>\n",
       "      <th>2</th>\n",
       "      <td>spam</td>\n",
       "      <td>Free entry in 2 a wkly comp to win FA Cup fina...</td>\n",
       "    </tr>\n",
       "    <tr>\n",
       "      <th>3</th>\n",
       "      <td>ham</td>\n",
       "      <td>U dun say so early hor... U c already then say...</td>\n",
       "    </tr>\n",
       "    <tr>\n",
       "      <th>4</th>\n",
       "      <td>ham</td>\n",
       "      <td>Nah I don't think he goes to usf, he lives aro...</td>\n",
       "    </tr>\n",
       "  </tbody>\n",
       "</table>\n",
       "</div>\n",
       "      <button class=\"colab-df-convert\" onclick=\"convertToInteractive('df-b830adf2-0562-4ae3-ae8e-8b51ae4d9cd5')\"\n",
       "              title=\"Convert this dataframe to an interactive table.\"\n",
       "              style=\"display:none;\">\n",
       "        \n",
       "  <svg xmlns=\"http://www.w3.org/2000/svg\" height=\"24px\"viewBox=\"0 0 24 24\"\n",
       "       width=\"24px\">\n",
       "    <path d=\"M0 0h24v24H0V0z\" fill=\"none\"/>\n",
       "    <path d=\"M18.56 5.44l.94 2.06.94-2.06 2.06-.94-2.06-.94-.94-2.06-.94 2.06-2.06.94zm-11 1L8.5 8.5l.94-2.06 2.06-.94-2.06-.94L8.5 2.5l-.94 2.06-2.06.94zm10 10l.94 2.06.94-2.06 2.06-.94-2.06-.94-.94-2.06-.94 2.06-2.06.94z\"/><path d=\"M17.41 7.96l-1.37-1.37c-.4-.4-.92-.59-1.43-.59-.52 0-1.04.2-1.43.59L10.3 9.45l-7.72 7.72c-.78.78-.78 2.05 0 2.83L4 21.41c.39.39.9.59 1.41.59.51 0 1.02-.2 1.41-.59l7.78-7.78 2.81-2.81c.8-.78.8-2.07 0-2.86zM5.41 20L4 18.59l7.72-7.72 1.47 1.35L5.41 20z\"/>\n",
       "  </svg>\n",
       "      </button>\n",
       "      \n",
       "  <style>\n",
       "    .colab-df-container {\n",
       "      display:flex;\n",
       "      flex-wrap:wrap;\n",
       "      gap: 12px;\n",
       "    }\n",
       "\n",
       "    .colab-df-convert {\n",
       "      background-color: #E8F0FE;\n",
       "      border: none;\n",
       "      border-radius: 50%;\n",
       "      cursor: pointer;\n",
       "      display: none;\n",
       "      fill: #1967D2;\n",
       "      height: 32px;\n",
       "      padding: 0 0 0 0;\n",
       "      width: 32px;\n",
       "    }\n",
       "\n",
       "    .colab-df-convert:hover {\n",
       "      background-color: #E2EBFA;\n",
       "      box-shadow: 0px 1px 2px rgba(60, 64, 67, 0.3), 0px 1px 3px 1px rgba(60, 64, 67, 0.15);\n",
       "      fill: #174EA6;\n",
       "    }\n",
       "\n",
       "    [theme=dark] .colab-df-convert {\n",
       "      background-color: #3B4455;\n",
       "      fill: #D2E3FC;\n",
       "    }\n",
       "\n",
       "    [theme=dark] .colab-df-convert:hover {\n",
       "      background-color: #434B5C;\n",
       "      box-shadow: 0px 1px 3px 1px rgba(0, 0, 0, 0.15);\n",
       "      filter: drop-shadow(0px 1px 2px rgba(0, 0, 0, 0.3));\n",
       "      fill: #FFFFFF;\n",
       "    }\n",
       "  </style>\n",
       "\n",
       "      <script>\n",
       "        const buttonEl =\n",
       "          document.querySelector('#df-b830adf2-0562-4ae3-ae8e-8b51ae4d9cd5 button.colab-df-convert');\n",
       "        buttonEl.style.display =\n",
       "          google.colab.kernel.accessAllowed ? 'block' : 'none';\n",
       "\n",
       "        async function convertToInteractive(key) {\n",
       "          const element = document.querySelector('#df-b830adf2-0562-4ae3-ae8e-8b51ae4d9cd5');\n",
       "          const dataTable =\n",
       "            await google.colab.kernel.invokeFunction('convertToInteractive',\n",
       "                                                     [key], {});\n",
       "          if (!dataTable) return;\n",
       "\n",
       "          const docLinkHtml = 'Like what you see? Visit the ' +\n",
       "            '<a target=\"_blank\" href=https://colab.research.google.com/notebooks/data_table.ipynb>data table notebook</a>'\n",
       "            + ' to learn more about interactive tables.';\n",
       "          element.innerHTML = '';\n",
       "          dataTable['output_type'] = 'display_data';\n",
       "          await google.colab.output.renderOutput(dataTable, element);\n",
       "          const docLink = document.createElement('div');\n",
       "          docLink.innerHTML = docLinkHtml;\n",
       "          element.appendChild(docLink);\n",
       "        }\n",
       "      </script>\n",
       "    </div>\n",
       "  </div>\n",
       "  "
      ],
      "text/plain": [
       "  Class                                                sms\n",
       "0   ham  Go until jurong point, crazy.. Available only ...\n",
       "1   ham                      Ok lar... Joking wif u oni...\n",
       "2  spam  Free entry in 2 a wkly comp to win FA Cup fina...\n",
       "3   ham  U dun say so early hor... U c already then say...\n",
       "4   ham  Nah I don't think he goes to usf, he lives aro..."
      ]
     },
     "execution_count": 56,
     "metadata": {},
     "output_type": "execute_result"
    }
   ],
   "source": [
    "# reading the training data\n",
    "df = pd.read_table('SMSSpamCollection', header=None, names=['Class', 'sms'])\n",
    "df.head()"
   ]
  },
  {
   "cell_type": "code",
   "execution_count": 57,
   "metadata": {
    "colab": {
     "base_uri": "https://localhost:8080/",
     "height": 0
    },
    "id": "N4OPfCxJ7VP8",
    "outputId": "a225870f-4bb2-4dc6-abd9-b8fc97cbfbea"
   },
   "outputs": [
    {
     "data": {
      "text/plain": [
       "5572"
      ]
     },
     "execution_count": 57,
     "metadata": {},
     "output_type": "execute_result"
    }
   ],
   "source": [
    "# number of SMSes / documents\n",
    "len(df)"
   ]
  },
  {
   "cell_type": "code",
   "execution_count": 58,
   "metadata": {
    "colab": {
     "base_uri": "https://localhost:8080/",
     "height": 0
    },
    "id": "jqmt0iKq7VP8",
    "outputId": "1b99d024-6fe8-4164-fa9b-74ad495633c5"
   },
   "outputs": [
    {
     "data": {
      "text/plain": [
       "ham     4825\n",
       "spam     747\n",
       "Name: Class, dtype: int64"
      ]
     },
     "execution_count": 58,
     "metadata": {},
     "output_type": "execute_result"
    }
   ],
   "source": [
    "# counting spam and ham instances\n",
    "ham_spam = df.Class.value_counts()\n",
    "ham_spam"
   ]
  },
  {
   "cell_type": "code",
   "execution_count": 59,
   "metadata": {
    "colab": {
     "base_uri": "https://localhost:8080/",
     "height": 0
    },
    "id": "0BttHPjp7VP9",
    "outputId": "45431e4d-e231-4b76-dd94-042c74c801d4"
   },
   "outputs": [
    {
     "name": "stdout",
     "output_type": "stream",
     "text": [
      "spam rate is about 13%\n"
     ]
    }
   ],
   "source": [
    "print(\"spam rate is about {0}%\".format(\n",
    "    round((ham_spam[1]/float(ham_spam[0]+ham_spam[1]))*100), 2))"
   ]
  },
  {
   "cell_type": "code",
   "execution_count": 60,
   "metadata": {
    "id": "kVnoVk0N7VP9"
   },
   "outputs": [],
   "source": [
    "# mapping labels to 0 and 1\n",
    "df['label'] = df.Class.map({'ham':0, 'spam':1})"
   ]
  },
  {
   "cell_type": "code",
   "execution_count": 61,
   "metadata": {
    "colab": {
     "base_uri": "https://localhost:8080/",
     "height": 206
    },
    "id": "rrT6vhdw7VP-",
    "outputId": "a6aa51da-e149-449f-d36a-cf35f7b744b2",
    "scrolled": true
   },
   "outputs": [
    {
     "data": {
      "text/html": [
       "\n",
       "  <div id=\"df-ddb99ce8-463b-4a1c-829b-63eb5f43d01d\">\n",
       "    <div class=\"colab-df-container\">\n",
       "      <div>\n",
       "<style scoped>\n",
       "    .dataframe tbody tr th:only-of-type {\n",
       "        vertical-align: middle;\n",
       "    }\n",
       "\n",
       "    .dataframe tbody tr th {\n",
       "        vertical-align: top;\n",
       "    }\n",
       "\n",
       "    .dataframe thead th {\n",
       "        text-align: right;\n",
       "    }\n",
       "</style>\n",
       "<table border=\"1\" class=\"dataframe\">\n",
       "  <thead>\n",
       "    <tr style=\"text-align: right;\">\n",
       "      <th></th>\n",
       "      <th>Class</th>\n",
       "      <th>sms</th>\n",
       "      <th>label</th>\n",
       "    </tr>\n",
       "  </thead>\n",
       "  <tbody>\n",
       "    <tr>\n",
       "      <th>0</th>\n",
       "      <td>ham</td>\n",
       "      <td>Go until jurong point, crazy.. Available only ...</td>\n",
       "      <td>0</td>\n",
       "    </tr>\n",
       "    <tr>\n",
       "      <th>1</th>\n",
       "      <td>ham</td>\n",
       "      <td>Ok lar... Joking wif u oni...</td>\n",
       "      <td>0</td>\n",
       "    </tr>\n",
       "    <tr>\n",
       "      <th>2</th>\n",
       "      <td>spam</td>\n",
       "      <td>Free entry in 2 a wkly comp to win FA Cup fina...</td>\n",
       "      <td>1</td>\n",
       "    </tr>\n",
       "    <tr>\n",
       "      <th>3</th>\n",
       "      <td>ham</td>\n",
       "      <td>U dun say so early hor... U c already then say...</td>\n",
       "      <td>0</td>\n",
       "    </tr>\n",
       "    <tr>\n",
       "      <th>4</th>\n",
       "      <td>ham</td>\n",
       "      <td>Nah I don't think he goes to usf, he lives aro...</td>\n",
       "      <td>0</td>\n",
       "    </tr>\n",
       "  </tbody>\n",
       "</table>\n",
       "</div>\n",
       "      <button class=\"colab-df-convert\" onclick=\"convertToInteractive('df-ddb99ce8-463b-4a1c-829b-63eb5f43d01d')\"\n",
       "              title=\"Convert this dataframe to an interactive table.\"\n",
       "              style=\"display:none;\">\n",
       "        \n",
       "  <svg xmlns=\"http://www.w3.org/2000/svg\" height=\"24px\"viewBox=\"0 0 24 24\"\n",
       "       width=\"24px\">\n",
       "    <path d=\"M0 0h24v24H0V0z\" fill=\"none\"/>\n",
       "    <path d=\"M18.56 5.44l.94 2.06.94-2.06 2.06-.94-2.06-.94-.94-2.06-.94 2.06-2.06.94zm-11 1L8.5 8.5l.94-2.06 2.06-.94-2.06-.94L8.5 2.5l-.94 2.06-2.06.94zm10 10l.94 2.06.94-2.06 2.06-.94-2.06-.94-.94-2.06-.94 2.06-2.06.94z\"/><path d=\"M17.41 7.96l-1.37-1.37c-.4-.4-.92-.59-1.43-.59-.52 0-1.04.2-1.43.59L10.3 9.45l-7.72 7.72c-.78.78-.78 2.05 0 2.83L4 21.41c.39.39.9.59 1.41.59.51 0 1.02-.2 1.41-.59l7.78-7.78 2.81-2.81c.8-.78.8-2.07 0-2.86zM5.41 20L4 18.59l7.72-7.72 1.47 1.35L5.41 20z\"/>\n",
       "  </svg>\n",
       "      </button>\n",
       "      \n",
       "  <style>\n",
       "    .colab-df-container {\n",
       "      display:flex;\n",
       "      flex-wrap:wrap;\n",
       "      gap: 12px;\n",
       "    }\n",
       "\n",
       "    .colab-df-convert {\n",
       "      background-color: #E8F0FE;\n",
       "      border: none;\n",
       "      border-radius: 50%;\n",
       "      cursor: pointer;\n",
       "      display: none;\n",
       "      fill: #1967D2;\n",
       "      height: 32px;\n",
       "      padding: 0 0 0 0;\n",
       "      width: 32px;\n",
       "    }\n",
       "\n",
       "    .colab-df-convert:hover {\n",
       "      background-color: #E2EBFA;\n",
       "      box-shadow: 0px 1px 2px rgba(60, 64, 67, 0.3), 0px 1px 3px 1px rgba(60, 64, 67, 0.15);\n",
       "      fill: #174EA6;\n",
       "    }\n",
       "\n",
       "    [theme=dark] .colab-df-convert {\n",
       "      background-color: #3B4455;\n",
       "      fill: #D2E3FC;\n",
       "    }\n",
       "\n",
       "    [theme=dark] .colab-df-convert:hover {\n",
       "      background-color: #434B5C;\n",
       "      box-shadow: 0px 1px 3px 1px rgba(0, 0, 0, 0.15);\n",
       "      filter: drop-shadow(0px 1px 2px rgba(0, 0, 0, 0.3));\n",
       "      fill: #FFFFFF;\n",
       "    }\n",
       "  </style>\n",
       "\n",
       "      <script>\n",
       "        const buttonEl =\n",
       "          document.querySelector('#df-ddb99ce8-463b-4a1c-829b-63eb5f43d01d button.colab-df-convert');\n",
       "        buttonEl.style.display =\n",
       "          google.colab.kernel.accessAllowed ? 'block' : 'none';\n",
       "\n",
       "        async function convertToInteractive(key) {\n",
       "          const element = document.querySelector('#df-ddb99ce8-463b-4a1c-829b-63eb5f43d01d');\n",
       "          const dataTable =\n",
       "            await google.colab.kernel.invokeFunction('convertToInteractive',\n",
       "                                                     [key], {});\n",
       "          if (!dataTable) return;\n",
       "\n",
       "          const docLinkHtml = 'Like what you see? Visit the ' +\n",
       "            '<a target=\"_blank\" href=https://colab.research.google.com/notebooks/data_table.ipynb>data table notebook</a>'\n",
       "            + ' to learn more about interactive tables.';\n",
       "          element.innerHTML = '';\n",
       "          dataTable['output_type'] = 'display_data';\n",
       "          await google.colab.output.renderOutput(dataTable, element);\n",
       "          const docLink = document.createElement('div');\n",
       "          docLink.innerHTML = docLinkHtml;\n",
       "          element.appendChild(docLink);\n",
       "        }\n",
       "      </script>\n",
       "    </div>\n",
       "  </div>\n",
       "  "
      ],
      "text/plain": [
       "  Class                                                sms  label\n",
       "0   ham  Go until jurong point, crazy.. Available only ...      0\n",
       "1   ham                      Ok lar... Joking wif u oni...      0\n",
       "2  spam  Free entry in 2 a wkly comp to win FA Cup fina...      1\n",
       "3   ham  U dun say so early hor... U c already then say...      0\n",
       "4   ham  Nah I don't think he goes to usf, he lives aro...      0"
      ]
     },
     "execution_count": 61,
     "metadata": {},
     "output_type": "execute_result"
    }
   ],
   "source": [
    "df.head()"
   ]
  },
  {
   "cell_type": "code",
   "execution_count": 62,
   "metadata": {
    "colab": {
     "base_uri": "https://localhost:8080/",
     "height": 206
    },
    "id": "OjIf5rMi7VP-",
    "outputId": "047a86fa-3aaf-454c-f41d-1adb0ef51ed5"
   },
   "outputs": [
    {
     "data": {
      "text/html": [
       "\n",
       "  <div id=\"df-6ff24bff-d72d-4d19-8c71-035e059b70d6\">\n",
       "    <div class=\"colab-df-container\">\n",
       "      <div>\n",
       "<style scoped>\n",
       "    .dataframe tbody tr th:only-of-type {\n",
       "        vertical-align: middle;\n",
       "    }\n",
       "\n",
       "    .dataframe tbody tr th {\n",
       "        vertical-align: top;\n",
       "    }\n",
       "\n",
       "    .dataframe thead th {\n",
       "        text-align: right;\n",
       "    }\n",
       "</style>\n",
       "<table border=\"1\" class=\"dataframe\">\n",
       "  <thead>\n",
       "    <tr style=\"text-align: right;\">\n",
       "      <th></th>\n",
       "      <th>sms</th>\n",
       "      <th>label</th>\n",
       "    </tr>\n",
       "  </thead>\n",
       "  <tbody>\n",
       "    <tr>\n",
       "      <th>0</th>\n",
       "      <td>Go until jurong point, crazy.. Available only ...</td>\n",
       "      <td>0</td>\n",
       "    </tr>\n",
       "    <tr>\n",
       "      <th>1</th>\n",
       "      <td>Ok lar... Joking wif u oni...</td>\n",
       "      <td>0</td>\n",
       "    </tr>\n",
       "    <tr>\n",
       "      <th>2</th>\n",
       "      <td>Free entry in 2 a wkly comp to win FA Cup fina...</td>\n",
       "      <td>1</td>\n",
       "    </tr>\n",
       "    <tr>\n",
       "      <th>3</th>\n",
       "      <td>U dun say so early hor... U c already then say...</td>\n",
       "      <td>0</td>\n",
       "    </tr>\n",
       "    <tr>\n",
       "      <th>4</th>\n",
       "      <td>Nah I don't think he goes to usf, he lives aro...</td>\n",
       "      <td>0</td>\n",
       "    </tr>\n",
       "  </tbody>\n",
       "</table>\n",
       "</div>\n",
       "      <button class=\"colab-df-convert\" onclick=\"convertToInteractive('df-6ff24bff-d72d-4d19-8c71-035e059b70d6')\"\n",
       "              title=\"Convert this dataframe to an interactive table.\"\n",
       "              style=\"display:none;\">\n",
       "        \n",
       "  <svg xmlns=\"http://www.w3.org/2000/svg\" height=\"24px\"viewBox=\"0 0 24 24\"\n",
       "       width=\"24px\">\n",
       "    <path d=\"M0 0h24v24H0V0z\" fill=\"none\"/>\n",
       "    <path d=\"M18.56 5.44l.94 2.06.94-2.06 2.06-.94-2.06-.94-.94-2.06-.94 2.06-2.06.94zm-11 1L8.5 8.5l.94-2.06 2.06-.94-2.06-.94L8.5 2.5l-.94 2.06-2.06.94zm10 10l.94 2.06.94-2.06 2.06-.94-2.06-.94-.94-2.06-.94 2.06-2.06.94z\"/><path d=\"M17.41 7.96l-1.37-1.37c-.4-.4-.92-.59-1.43-.59-.52 0-1.04.2-1.43.59L10.3 9.45l-7.72 7.72c-.78.78-.78 2.05 0 2.83L4 21.41c.39.39.9.59 1.41.59.51 0 1.02-.2 1.41-.59l7.78-7.78 2.81-2.81c.8-.78.8-2.07 0-2.86zM5.41 20L4 18.59l7.72-7.72 1.47 1.35L5.41 20z\"/>\n",
       "  </svg>\n",
       "      </button>\n",
       "      \n",
       "  <style>\n",
       "    .colab-df-container {\n",
       "      display:flex;\n",
       "      flex-wrap:wrap;\n",
       "      gap: 12px;\n",
       "    }\n",
       "\n",
       "    .colab-df-convert {\n",
       "      background-color: #E8F0FE;\n",
       "      border: none;\n",
       "      border-radius: 50%;\n",
       "      cursor: pointer;\n",
       "      display: none;\n",
       "      fill: #1967D2;\n",
       "      height: 32px;\n",
       "      padding: 0 0 0 0;\n",
       "      width: 32px;\n",
       "    }\n",
       "\n",
       "    .colab-df-convert:hover {\n",
       "      background-color: #E2EBFA;\n",
       "      box-shadow: 0px 1px 2px rgba(60, 64, 67, 0.3), 0px 1px 3px 1px rgba(60, 64, 67, 0.15);\n",
       "      fill: #174EA6;\n",
       "    }\n",
       "\n",
       "    [theme=dark] .colab-df-convert {\n",
       "      background-color: #3B4455;\n",
       "      fill: #D2E3FC;\n",
       "    }\n",
       "\n",
       "    [theme=dark] .colab-df-convert:hover {\n",
       "      background-color: #434B5C;\n",
       "      box-shadow: 0px 1px 3px 1px rgba(0, 0, 0, 0.15);\n",
       "      filter: drop-shadow(0px 1px 2px rgba(0, 0, 0, 0.3));\n",
       "      fill: #FFFFFF;\n",
       "    }\n",
       "  </style>\n",
       "\n",
       "      <script>\n",
       "        const buttonEl =\n",
       "          document.querySelector('#df-6ff24bff-d72d-4d19-8c71-035e059b70d6 button.colab-df-convert');\n",
       "        buttonEl.style.display =\n",
       "          google.colab.kernel.accessAllowed ? 'block' : 'none';\n",
       "\n",
       "        async function convertToInteractive(key) {\n",
       "          const element = document.querySelector('#df-6ff24bff-d72d-4d19-8c71-035e059b70d6');\n",
       "          const dataTable =\n",
       "            await google.colab.kernel.invokeFunction('convertToInteractive',\n",
       "                                                     [key], {});\n",
       "          if (!dataTable) return;\n",
       "\n",
       "          const docLinkHtml = 'Like what you see? Visit the ' +\n",
       "            '<a target=\"_blank\" href=https://colab.research.google.com/notebooks/data_table.ipynb>data table notebook</a>'\n",
       "            + ' to learn more about interactive tables.';\n",
       "          element.innerHTML = '';\n",
       "          dataTable['output_type'] = 'display_data';\n",
       "          await google.colab.output.renderOutput(dataTable, element);\n",
       "          const docLink = document.createElement('div');\n",
       "          docLink.innerHTML = docLinkHtml;\n",
       "          element.appendChild(docLink);\n",
       "        }\n",
       "      </script>\n",
       "    </div>\n",
       "  </div>\n",
       "  "
      ],
      "text/plain": [
       "                                                 sms  label\n",
       "0  Go until jurong point, crazy.. Available only ...      0\n",
       "1                      Ok lar... Joking wif u oni...      0\n",
       "2  Free entry in 2 a wkly comp to win FA Cup fina...      1\n",
       "3  U dun say so early hor... U c already then say...      0\n",
       "4  Nah I don't think he goes to usf, he lives aro...      0"
      ]
     },
     "execution_count": 62,
     "metadata": {},
     "output_type": "execute_result"
    }
   ],
   "source": [
    "# we can now drop the column 'Class'\n",
    "df = df.drop('Class', axis=1)\n",
    "df.head()"
   ]
  },
  {
   "cell_type": "code",
   "execution_count": 63,
   "metadata": {
    "colab": {
     "base_uri": "https://localhost:8080/",
     "height": 0
    },
    "id": "3C9EiwE07VP_",
    "outputId": "6a28053f-53ab-4514-f8c0-7adacaa140cc"
   },
   "outputs": [
    {
     "name": "stdout",
     "output_type": "stream",
     "text": [
      "(5572,)\n",
      "(5572,)\n"
     ]
    }
   ],
   "source": [
    "# convert to X and y\n",
    "X = df.sms\n",
    "y = df.label\n",
    "print(X.shape)\n",
    "print(y.shape)"
   ]
  },
  {
   "cell_type": "code",
   "execution_count": 64,
   "metadata": {
    "id": "v3r1kS667VP_"
   },
   "outputs": [],
   "source": [
    "# splitting into test and train\n",
    "X_train, X_test, y_train, y_test = train_test_split(X, y, random_state=28)"
   ]
  },
  {
   "cell_type": "code",
   "execution_count": 65,
   "metadata": {
    "colab": {
     "base_uri": "https://localhost:8080/",
     "height": 0
    },
    "id": "4CPRS-cd7VP_",
    "outputId": "840d5653-76f2-4711-d818-6f096646ca71"
   },
   "outputs": [
    {
     "data": {
      "text/plain": [
       "4387    , im .. On the snowboarding trip. I was wonder...\n",
       "3491    Huh but i got lesson at 4 lei n i was thinkin ...\n",
       "3216           I want snow. It's just freezing and windy.\n",
       "3109    Hello hun how ru? Its here by the way. Im good...\n",
       "1811    Now, whats your house # again ? And do you hav...\n",
       "Name: sms, dtype: object"
      ]
     },
     "execution_count": 65,
     "metadata": {},
     "output_type": "execute_result"
    }
   ],
   "source": [
    "X_train.head()"
   ]
  },
  {
   "cell_type": "code",
   "execution_count": 66,
   "metadata": {
    "colab": {
     "base_uri": "https://localhost:8080/",
     "height": 0
    },
    "id": "Jg-f_SJG7VQA",
    "outputId": "282f84f3-edfc-47b8-b056-281aa2aaccd4"
   },
   "outputs": [
    {
     "data": {
      "text/plain": [
       "4387    0\n",
       "3491    0\n",
       "3216    0\n",
       "3109    0\n",
       "1811    0\n",
       "Name: label, dtype: int64"
      ]
     },
     "execution_count": 66,
     "metadata": {},
     "output_type": "execute_result"
    }
   ],
   "source": [
    "y_train.head()"
   ]
  },
  {
   "cell_type": "code",
   "execution_count": 67,
   "metadata": {
    "id": "KNqtshJR7VQA"
   },
   "outputs": [],
   "source": [
    "# vectorizing the sentences; removing stop words\n",
    "vect = CountVectorizer(stop_words='english')"
   ]
  },
  {
   "cell_type": "code",
   "execution_count": 68,
   "metadata": {
    "colab": {
     "base_uri": "https://localhost:8080/",
     "height": 0
    },
    "id": "4m8tBTlj7VQA",
    "outputId": "0539667b-665c-4290-f74b-9e8f7b89ffc6",
    "scrolled": true
   },
   "outputs": [
    {
     "data": {
      "text/plain": [
       "CountVectorizer(stop_words='english')"
      ]
     },
     "execution_count": 68,
     "metadata": {},
     "output_type": "execute_result"
    }
   ],
   "source": [
    "vect.fit(X_train)"
   ]
  },
  {
   "cell_type": "code",
   "execution_count": 69,
   "metadata": {
    "colab": {
     "base_uri": "https://localhost:8080/",
     "height": 0
    },
    "id": "8X0bHbL97VQB",
    "outputId": "e793f078-f99d-4af1-cad2-5a41df4b174c"
   },
   "outputs": [
    {
     "data": {
      "text/plain": [
       "{'im': 3441,\n",
       " 'snowboarding': 5933,\n",
       " 'trip': 6636,\n",
       " 'wondering': 7134,\n",
       " 'planning': 4942,\n",
       " 'befor': 1247,\n",
       " 'meet': 4203,\n",
       " 'greet': 3089,\n",
       " 'kind': 3736,\n",
       " 'affair': 830,\n",
       " 'cheers': 1688,\n",
       " 'huh': 3372,\n",
       " 'got': 3051,\n",
       " 'lesson': 3872,\n",
       " 'lei': 3862,\n",
       " 'thinkin': 6466,\n",
       " 'going': 3025,\n",
       " 'sch': 5613,\n",
       " 'earlier': 2398,\n",
       " 'tot': 6595,\n",
       " 'parkin': 4801,\n",
       " 'kent': 3709,\n",
       " 'vale': 6824,\n",
       " 'want': 6953,\n",
       " 'snow': 5931,\n",
       " 'just': 3672,\n",
       " 'freezing': 2860,\n",
       " 'windy': 7083,\n",
       " 'hello': 3239,\n",
       " 'hun': 3378,\n",
       " 'ru': 5524,\n",
       " 'way': 6986,\n",
       " 'good': 3035,\n",
       " 'dates': 2080,\n",
       " 'guy': 3128,\n",
       " 'met': 4238,\n",
       " 'walkabout': 6938,\n",
       " 'far': 2661,\n",
       " 'soon': 5967,\n",
       " 'hows': 3352,\n",
       " 'whats': 7045,\n",
       " 'house': 3344,\n",
       " 'beer': 1244,\n",
       " '4mths': 521,\n",
       " 'half': 3149,\n",
       " 'price': 5101,\n",
       " 'orange': 4702,\n",
       " 'line': 3916,\n",
       " 'rental': 5387,\n",
       " 'latest': 3818,\n",
       " 'camera': 1557,\n",
       " 'phones': 4894,\n",
       " 'free': 2851,\n",
       " 'phone': 4890,\n",
       " '11mths': 276,\n",
       " 'mobilesdirect': 4316,\n",
       " '08000938767': 56,\n",
       " 'update': 6772,\n",
       " 'or2stoptxt': 4701,\n",
       " 'yar': 7229,\n",
       " 'wanted': 6955,\n",
       " 'scold': 5618,\n",
       " 'yest': 7247,\n",
       " 'late': 3814,\n",
       " 'zhong': 7287,\n",
       " 'se': 5641,\n",
       " 'qing': 5206,\n",
       " 'ask': 1055,\n",
       " 'b4': 1141,\n",
       " 'll': 3947,\n",
       " 'lor': 3991,\n",
       " 'act': 786,\n",
       " 'real': 5283,\n",
       " 'sorry': 5977,\n",
       " 'later': 3817,\n",
       " 'tomorrow': 6567,\n",
       " 'send': 5681,\n",
       " 'cancel': 1563,\n",
       " 'cheyyamo': 1700,\n",
       " 'money': 4338,\n",
       " 'hospital': 3332,\n",
       " 'da': 2053,\n",
       " 'return': 5446,\n",
       " 'home': 3303,\n",
       " 'evening': 2545,\n",
       " 'message': 4231,\n",
       " 'great': 3085,\n",
       " 'doctor': 2280,\n",
       " 'india': 3482,\n",
       " 'drink': 2349,\n",
       " 'appy': 999,\n",
       " 'fizz': 2757,\n",
       " 'contains': 1900,\n",
       " 'cancer': 1566,\n",
       " 'causing': 1617,\n",
       " 'age': 843,\n",
       " 'hey': 3259,\n",
       " 'yogasana': 7258,\n",
       " 'coz': 1964,\n",
       " 'end': 2469,\n",
       " 'cine': 1743,\n",
       " 'bathe': 1199,\n",
       " 'hav': 3196,\n",
       " 'steam': 6112,\n",
       " 'bath': 1198,\n",
       " 'company': 1843,\n",
       " 'elama': 2448,\n",
       " 'po': 4970,\n",
       " 'mudyadhu': 4398,\n",
       " 'ur': 6785,\n",
       " 'pain': 4768,\n",
       " 'ok': 4652,\n",
       " 'night': 4534,\n",
       " 'spent': 6025,\n",
       " 'afternoon': 840,\n",
       " 'casualty': 1609,\n",
       " 'means': 4193,\n",
       " 'haven': 3201,\n",
       " 'stuff42moro': 6181,\n",
       " 'includes': 3470,\n",
       " 'time': 6514,\n",
       " 'sheets': 5740,\n",
       " 'beautiful': 1229,\n",
       " 'girl': 2994,\n",
       " 'ive': 3573,\n",
       " 'seen': 5665,\n",
       " 'baby': 1151,\n",
       " 'come': 1828,\n",
       " 'common': 1837,\n",
       " 'room': 5500,\n",
       " '5p': 559,\n",
       " 'alfie': 888,\n",
       " 'moon': 4349,\n",
       " 'children': 1714,\n",
       " 'need': 4486,\n",
       " 'song': 5962,\n",
       " 'mob': 4313,\n",
       " 'tell': 6388,\n",
       " 'm8s': 4071,\n",
       " 'txt': 6685,\n",
       " 'tone': 6568,\n",
       " 'charity': 1661,\n",
       " '8007': 632,\n",
       " 'nokias': 4558,\n",
       " 'poly': 4996,\n",
       " 'polys': 5001,\n",
       " 'zed': 7285,\n",
       " '08701417012': 78,\n",
       " 'profit': 5137,\n",
       " 'buy': 1512,\n",
       " 'wat': 6972,\n",
       " 'loan': 3954,\n",
       " 'purpose': 5191,\n",
       " '500': 533,\n",
       " '75': 611,\n",
       " '000': 1,\n",
       " 'homeowners': 3304,\n",
       " 'tenants': 6398,\n",
       " 'welcome': 7026,\n",
       " 'previously': 5099,\n",
       " 'refused': 5345,\n",
       " 'help': 3241,\n",
       " '0800': 51,\n",
       " '1956669': 325,\n",
       " 'text': 6417,\n",
       " 'bbq': 1211,\n",
       " 'sat': 5588,\n",
       " '6ish': 596,\n",
       " 'watch': 6973,\n",
       " 'films': 2726,\n",
       " '1st': 335,\n",
       " 'wk': 7109,\n",
       " 'gr8': 3063,\n",
       " 'tones': 6569,\n",
       " 'str8': 6150,\n",
       " 'nokia': 4555,\n",
       " 'classic': 1757,\n",
       " 'hit': 3276,\n",
       " '150p': 304,\n",
       " '200p': 353,\n",
       " '16': 314,\n",
       " 'sister': 5846,\n",
       " 'placed': 4933,\n",
       " 'birla': 1307,\n",
       " 'soft': 5939,\n",
       " 'err': 2518,\n",
       " 'cud': 2019,\n",
       " '8pm': 713,\n",
       " 'contact': 1898,\n",
       " 'lost': 3998,\n",
       " '10': 257,\n",
       " 'kilos': 3735,\n",
       " 'today': 6549,\n",
       " 'pay': 4829,\n",
       " 'like': 3902,\n",
       " 'lt': 4034,\n",
       " 'gt': 3109,\n",
       " 'yrs': 7273,\n",
       " 'difficult': 2215,\n",
       " 'depends': 2156,\n",
       " 'individual': 3486,\n",
       " 'hair': 3145,\n",
       " 'dresser': 2348,\n",
       " 'say': 5600,\n",
       " 'pretty': 5095,\n",
       " 'parents': 4796,\n",
       " 'look': 3981,\n",
       " 'gong': 3033,\n",
       " 'kaypoh': 3701,\n",
       " 'dunno': 2385,\n",
       " 'collecting': 1817,\n",
       " 'getting': 2984,\n",
       " 'tickets': 6502,\n",
       " 'walsall': 6947,\n",
       " 'tue': 6666,\n",
       " 'th': 6429,\n",
       " 'march': 4138,\n",
       " 'mate': 4163,\n",
       " 'ill': 3438,\n",
       " 'treat': 6629,\n",
       " 'bak': 1163,\n",
       " 'terry': 6410,\n",
       " 'cs': 2004,\n",
       " 'sweet': 6291,\n",
       " 'dreams': 2345,\n",
       " 'special': 6008,\n",
       " 'told': 6559,\n",
       " 'marry': 4148,\n",
       " 'carlos': 1593,\n",
       " 'pick': 4905,\n",
       " 'swing': 6299,\n",
       " 'usf': 6806,\n",
       " 'little': 3939,\n",
       " 'bit': 1312,\n",
       " 'early': 2400,\n",
       " 'throw': 6489,\n",
       " 'smoking': 5912,\n",
       " 'friend': 2873,\n",
       " 'car': 1577,\n",
       " 'awesome': 1131,\n",
       " 'tough': 6601,\n",
       " 'fear': 2682,\n",
       " 'fainting': 2637,\n",
       " 'housework': 3347,\n",
       " 'did': 2200,\n",
       " 'quick': 5218,\n",
       " 'cuppa': 2028,\n",
       " 'happy': 3180,\n",
       " 'birthday': 1310,\n",
       " 'true': 6646,\n",
       " 'think': 6464,\n",
       " 'check': 1678,\n",
       " 'google': 3047,\n",
       " 'maps': 4136,\n",
       " 'place': 4932,\n",
       " 'dorm': 2317,\n",
       " 'login': 3966,\n",
       " 'sir': 5843,\n",
       " 'axis': 1137,\n",
       " 'bank': 1175,\n",
       " 'account': 774,\n",
       " 'address': 805,\n",
       " 'went': 7030,\n",
       " 'bed': 1236,\n",
       " 'nightnight': 4536,\n",
       " 'wen': 7029,\n",
       " 'spiritual': 6032,\n",
       " 'deep': 2116,\n",
       " 'babe': 1148,\n",
       " 'doing': 2297,\n",
       " 'talking': 6336,\n",
       " 'boy': 1412,\n",
       " 'missing': 4287,\n",
       " 'love': 4012,\n",
       " 'princess': 5106,\n",
       " 'likes': 3905,\n",
       " 'dislikes': 2255,\n",
       " 'won': 7130,\n",
       " '7250i': 607,\n",
       " 'win': 7078,\n",
       " 'auction': 1096,\n",
       " '86021': 676,\n",
       " 'hg': 3261,\n",
       " 'suite342': 6226,\n",
       " '2lands': 400,\n",
       " 'row': 5512,\n",
       " 'w1jhl': 6916,\n",
       " 'hurry': 3385,\n",
       " 'big': 1293,\n",
       " 'butt': 1510,\n",
       " 'hang': 3165,\n",
       " 'caller': 1545,\n",
       " 'food': 2803,\n",
       " 'starving': 6096,\n",
       " 'don': 2306,\n",
       " 'cooked': 1920,\n",
       " 'reaching': 5276,\n",
       " 'min': 4256,\n",
       " 'customer': 2038,\n",
       " 'claim': 1748,\n",
       " 'upgrade': 6774,\n",
       " 'loyalty': 4029,\n",
       " '0207': 10,\n",
       " '153': 312,\n",
       " '9996': 730,\n",
       " 'offer': 4637,\n",
       " 'ends': 2474,\n",
       " '14thmarch': 300,\n",
       " 'apply': 988,\n",
       " 'opt': 4694,\n",
       " 'availa': 1114,\n",
       " 'xxx': 7212,\n",
       " 'pics': 4909,\n",
       " 'hot': 3336,\n",
       " 'nearly': 4478,\n",
       " 'banned': 1177,\n",
       " 'uk': 6711,\n",
       " 'deal': 2094,\n",
       " 'gate': 2943,\n",
       " 'charles': 1662,\n",
       " 'uh': 6707,\n",
       " 'yeah': 7235,\n",
       " 'aight': 862,\n",
       " 'ended': 2470,\n",
       " 'day': 2086,\n",
       " 'morning': 4354,\n",
       " 'smile': 5902,\n",
       " 'sunny': 6242,\n",
       " 'rays': 5268,\n",
       " 'leaves': 3851,\n",
       " 'worries': 7158,\n",
       " 'blue': 1351,\n",
       " 'bay': 1206,\n",
       " 'gud': 3113,\n",
       " 'mrng': 4376,\n",
       " 'madam': 4089,\n",
       " 'regret': 5353,\n",
       " 'disturbance': 2262,\n",
       " 'receive': 5307,\n",
       " 'reference': 5336,\n",
       " 'dlf': 2271,\n",
       " 'premarica': 5073,\n",
       " 'kindly': 3738,\n",
       " 'informed': 3494,\n",
       " 'rgds': 5458,\n",
       " 'rakhesh': 5248,\n",
       " 'kerala': 3711,\n",
       " 'tog': 6552,\n",
       " 'yes': 7246,\n",
       " 'appt': 998,\n",
       " 'hope': 3318,\n",
       " 'del': 2131,\n",
       " 'long': 3978,\n",
       " 'sum': 6230,\n",
       " 'lucyxx': 4042,\n",
       " 'aiyo': 872,\n",
       " 'meh': 4209,\n",
       " 'waited': 6931,\n",
       " 'yesterday': 7248,\n",
       " 'friends': 2874,\n",
       " 'drive': 2354,\n",
       " 'em': 2456,\n",
       " 'someplace': 5951,\n",
       " 'probably': 5121,\n",
       " 'wan': 6949,\n",
       " 'necessarily': 4480,\n",
       " 'expect': 2591,\n",
       " 'headin': 3212,\n",
       " 'service': 5700,\n",
       " 'announcement': 946,\n",
       " 'recently': 5312,\n",
       " 'tried': 6635,\n",
       " 'make': 4110,\n",
       " 'delivery': 2141,\n",
       " 'unable': 6719,\n",
       " '07099833605': 26,\n",
       " 'schedule': 5614,\n",
       " 'ref': 5335,\n",
       " '9280114': 719,\n",
       " 'ugh': 6706,\n",
       " 'wanna': 6952,\n",
       " 'warm': 6960,\n",
       " 'working': 7151,\n",
       " 'technical': 6380,\n",
       " 'support': 6258,\n",
       " 'voice': 6896,\n",
       " 'process': 5128,\n",
       " 'networking': 4510,\n",
       " 'field': 2709,\n",
       " 'compliments': 1858,\n",
       " 'away': 1130,\n",
       " 'pls': 4960,\n",
       " 'correct': 1933,\n",
       " 'agree': 852,\n",
       " 'stop': 6136,\n",
       " 'ipad': 3545,\n",
       " 'macho': 4082,\n",
       " 'question': 5215,\n",
       " 'happen': 3170,\n",
       " 'alright': 905,\n",
       " 'sent': 5691,\n",
       " 'blank': 1324,\n",
       " 'msg': 4379,\n",
       " 'yup': 7281,\n",
       " 'trying': 6656,\n",
       " 'studying': 6178,\n",
       " 'eh': 2439,\n",
       " 'remember': 5370,\n",
       " 'spell': 6020,\n",
       " 'naughty': 4466,\n",
       " 'wet': 7041,\n",
       " 'explicit': 2603,\n",
       " 'sex': 5710,\n",
       " '30': 427,\n",
       " 'secs': 5655,\n",
       " 'ring': 5471,\n",
       " '02073162414': 12,\n",
       " 'costs': 1942,\n",
       " '20p': 355,\n",
       " 'forgot': 2822,\n",
       " 'smth': 5919,\n",
       " 'number': 4595,\n",
       " 'sections': 5657,\n",
       " 'clearer': 1764,\n",
       " 'exciting': 2575,\n",
       " 'karaoke': 3693,\n",
       " 'type': 6699,\n",
       " 'activities': 794,\n",
       " 'planned': 4941,\n",
       " 'debating': 2102,\n",
       " 'play': 4945,\n",
       " 'football': 2807,\n",
       " 'eve': 2543,\n",
       " 'feeling': 2692,\n",
       " 'lazy': 3834,\n",
       " 'right': 5466,\n",
       " 'ish': 3558,\n",
       " 'minutes': 4273,\n",
       " 'ago': 851,\n",
       " 'wtf': 7188,\n",
       " 'realy': 5293,\n",
       " 'soz': 5995,\n",
       " 'imat': 3446,\n",
       " 'mums': 4408,\n",
       " '2nite': 412,\n",
       " '2moro': 401,\n",
       " 'yep': 7244,\n",
       " 'loxahatchee': 4027,\n",
       " 'xmas': 7206,\n",
       " 'tree': 6633,\n",
       " 'burning': 1500,\n",
       " 'starts': 6094,\n",
       " 'hour': 3341,\n",
       " 'lol': 3972,\n",
       " 'air': 865,\n",
       " 'balloon': 1168,\n",
       " 'watching': 6976,\n",
       " 'cartoon': 1601,\n",
       " 'listening': 3932,\n",
       " 'music': 4416,\n",
       " 'amp': 925,\n",
       " 'temple': 6397,\n",
       " 'church': 1741,\n",
       " 'know': 3756,\n",
       " 'taj': 6327,\n",
       " 'mahal': 4100,\n",
       " 'symbol': 6308,\n",
       " 'lesser': 3871,\n",
       " 'known': 3758,\n",
       " 'facts': 2628,\n",
       " 'mumtaz': 4409,\n",
       " 'shahjahan': 5724,\n",
       " '4th': 525,\n",
       " 'wife': 7068,\n",
       " 'wifes': 7069,\n",
       " 'killed': 3732,\n",
       " 'husband': 3389,\n",
       " 'died': 2206,\n",
       " 'married': 4147,\n",
       " 'arises': 1025,\n",
       " 'hell': 3237,\n",
       " 'hari': 3185,\n",
       " 'miles': 4251,\n",
       " 'smiles': 5904,\n",
       " 'frm': 2879,\n",
       " 'letters': 3877,\n",
       " 'difference': 2212,\n",
       " 'face': 2623,\n",
       " 'keeps': 3706,\n",
       " 'smiling': 5906,\n",
       " 'nyt': 4611,\n",
       " 'new': 4517,\n",
       " '083': 67,\n",
       " '6089': 569,\n",
       " 'complimentary': 1857,\n",
       " 'star': 6087,\n",
       " 'ibiza': 3404,\n",
       " 'holiday': 3298,\n",
       " 'cash': 1603,\n",
       " 'needs': 4491,\n",
       " 'urgent': 6789,\n",
       " 'collection': 1818,\n",
       " '09066364349': 231,\n",
       " 'landline': 3798,\n",
       " 'lose': 3993,\n",
       " 'box434sk38wp150ppm18': 1408,\n",
       " 'says': 5603,\n",
       " 'year': 7236,\n",
       " 'old': 4661,\n",
       " 'man': 4119,\n",
       " 'waiting': 6933,\n",
       " 'fine': 2735,\n",
       " 'dorothy': 2319,\n",
       " 'kiefer': 3730,\n",
       " 'com': 1825,\n",
       " 'granite': 3074,\n",
       " 'issues': 3564,\n",
       " 'strong': 6164,\n",
       " 'explosive': 2605,\n",
       " 'members': 4218,\n",
       " '300': 428,\n",
       " 'nasdaq': 4452,\n",
       " 'cdgt': 1625,\n",
       " '00': 0,\n",
       " 'smsing': 5916,\n",
       " 'xy': 7220,\n",
       " 'guys': 3129,\n",
       " 'neva': 4512,\n",
       " 'person': 4865,\n",
       " 'sort': 5978,\n",
       " 'bring': 1450,\n",
       " 'meeting': 4205,\n",
       " 've': 6842,\n",
       " 'worried': 7157,\n",
       " 'derek': 2162,\n",
       " 'taylor': 6361,\n",
       " 'assumed': 1071,\n",
       " 'worst': 7162,\n",
       " 'necklace': 4484,\n",
       " 'token': 6556,\n",
       " 'heart': 3223,\n",
       " 'thats': 6441,\n",
       " 'liking': 3907,\n",
       " 'dont': 2309,\n",
       " 'wait': 6930,\n",
       " 'till': 6512,\n",
       " 'gonna': 3034,\n",
       " 'finish': 2737,\n",
       " 'green': 3088,\n",
       " 'quote': 5226,\n",
       " 'jerry': 3614,\n",
       " 'irritates': 3553,\n",
       " 'loves': 4020,\n",
       " 'vry': 6907,\n",
       " 'fails': 2635,\n",
       " 'express': 2608,\n",
       " 'open': 4683,\n",
       " 'class': 1755,\n",
       " 'imagine': 3445,\n",
       " 'really': 5291,\n",
       " 'gentle': 2968,\n",
       " 'unlike': 6754,\n",
       " 'docs': 2279,\n",
       " 'patients': 4824,\n",
       " 'turkeys': 6674,\n",
       " 'thanx': 6437,\n",
       " 'darlin': 2071,\n",
       " 'cool': 1923,\n",
       " 'bday': 1223,\n",
       " 'drinks': 2352,\n",
       " 'nite': 4546,\n",
       " '2morrow': 404,\n",
       " 'care': 1582,\n",
       " 'area': 1011,\n",
       " 'restaurant': 5434,\n",
       " 'try': 6654,\n",
       " 'dat': 2076,\n",
       " 'bored': 1383,\n",
       " 'cos': 1937,\n",
       " 'outside': 4737,\n",
       " 'stuff': 6180,\n",
       " 'tv': 6680,\n",
       " 'changes': 1650,\n",
       " 'report': 5404,\n",
       " 'previous': 5098,\n",
       " 'monday': 4336,\n",
       " 'nxt': 4607,\n",
       " 'week': 7012,\n",
       " 'vl': 6892,\n",
       " 'completing': 1855,\n",
       " 'waking': 6935,\n",
       " 'sup': 6248,\n",
       " 'miss': 4283,\n",
       " 'lastest': 3813,\n",
       " 'stereophonics': 6117,\n",
       " 'marley': 4144,\n",
       " 'dizzee': 2268,\n",
       " 'racal': 5229,\n",
       " 'libertines': 3883,\n",
       " 'strokes': 6163,\n",
       " 'nookii': 4562,\n",
       " 'games': 2928,\n",
       " 'flirt': 2772,\n",
       " 'click': 1768,\n",
       " 'themob': 6450,\n",
       " 'wap': 6958,\n",
       " 'bookmark': 1376,\n",
       " '82468': 652,\n",
       " 'december': 2105,\n",
       " 'mobile': 4314,\n",
       " 'entitled': 2499,\n",
       " 'colour': 1822,\n",
       " '08002986906': 60,\n",
       " 'dear': 2097,\n",
       " 'matthew': 4174,\n",
       " '09063440451': 204,\n",
       " 'lux': 4052,\n",
       " 'tenerife': 6400,\n",
       " '1000': 259,\n",
       " 'await': 1125,\n",
       " 'ppm150': 5047,\n",
       " 'sae': 5552,\n",
       " 'box334': 1401,\n",
       " 'sk38xh': 5860,\n",
       " 'feb': 2685,\n",
       " 'awarded': 1129,\n",
       " '2000': 347,\n",
       " 'prize': 5116,\n",
       " 'guaranteed': 3111,\n",
       " '09061790121': 202,\n",
       " 'land': 3797,\n",
       " '3030': 433,\n",
       " 'valid': 6827,\n",
       " '12hrs': 288,\n",
       " '150ppm': 308,\n",
       " 'pure': 5189,\n",
       " 'hearted': 3224,\n",
       " 'wonderful': 7133,\n",
       " 'makes': 4111,\n",
       " 'enemies': 2475,\n",
       " 'feel': 2690,\n",
       " 'guilty': 3125,\n",
       " 'enemy': 2476,\n",
       " 'catch': 1611,\n",
       " 'world': 7154,\n",
       " 'goodmorning': 3040,\n",
       " 'smiley': 5905,\n",
       " 'sunday': 6239,\n",
       " 'painful': 4769,\n",
       " 'personal': 4867,\n",
       " 'thought': 6480,\n",
       " 'everybody': 2550,\n",
       " 'recognises': 5320,\n",
       " 'request': 5407,\n",
       " 'melle': 4213,\n",
       " 'oru': 4719,\n",
       " 'minnaminunginte': 4267,\n",
       " 'nurungu': 4598,\n",
       " 'vettam': 6855,\n",
       " 'set': 5703,\n",
       " 'callertune': 1547,\n",
       " 'callers': 1546,\n",
       " 'press': 5089,\n",
       " 'copy': 1929,\n",
       " 'wot': 7164,\n",
       " 'bitch': 1313,\n",
       " 'said': 5559,\n",
       " 'gone': 3032,\n",
       " 'info': 3491,\n",
       " 'bt': 1476,\n",
       " 'uncle': 6723,\n",
       " 'checking': 1682,\n",
       " 'rewarding': 5456,\n",
       " 'month': 4345,\n",
       " 'lunch': 4045,\n",
       " 'aft': 838,\n",
       " 'str': 6149,\n",
       " 'ard': 1010,\n",
       " 'sleeping': 5877,\n",
       " 'nt': 4589,\n",
       " 'work': 7147,\n",
       " 'quite': 5221,\n",
       " 'diff': 2210,\n",
       " 'guess': 3116,\n",
       " 'rite': 5480,\n",
       " 'online': 4673,\n",
       " 'use': 6800,\n",
       " 'msn': 4386,\n",
       " 'site': 5849,\n",
       " 'simulate': 5834,\n",
       " 'test': 6412,\n",
       " 'gives': 3001,\n",
       " 'questions': 5217,\n",
       " 'readiness': 5280,\n",
       " 'errors': 2520,\n",
       " 'difficulties': 2216,\n",
       " 'correction': 1934,\n",
       " 'congrats': 1885,\n",
       " '3g': 460,\n",
       " 'videophones': 6864,\n",
       " '09061744553': 200,\n",
       " 'videochat': 6863,\n",
       " 'wid': 7065,\n",
       " 'mates': 4164,\n",
       " 'java': 3595,\n",
       " 'dload': 2272,\n",
       " 'polyh': 4998,\n",
       " 'noline': 4559,\n",
       " 'rentl': 5389,\n",
       " 'bx420': 1521,\n",
       " 'ip4': 3544,\n",
       " '5we': 563,\n",
       " '150pm': 306,\n",
       " 'erm': 2515,\n",
       " '45pm': 503,\n",
       " 'park': 4799,\n",
       " 'stay': 6104,\n",
       " 'fb': 2681,\n",
       " 'chat': 1669,\n",
       " 'earn': 2401,\n",
       " 'thanks': 6432,\n",
       " 'continued': 1906,\n",
       " 'enter': 2493,\n",
       " 'in2': 3465,\n",
       " 'draw': 2342,\n",
       " '100': 258,\n",
       " 'president': 5086,\n",
       " 'ans': 950,\n",
       " '80082': 633,\n",
       " 'eatin': 2413,\n",
       " 'wif': 7067,\n",
       " 'frens': 2864,\n",
       " 'scared': 5609,\n",
       " 'gas': 2941,\n",
       " 'station': 6102,\n",
       " 'searching': 5644,\n",
       " 'words': 7146,\n",
       " 'thank': 6431,\n",
       " 'breather': 1440,\n",
       " 'promise': 5144,\n",
       " 'wont': 7136,\n",
       " 'granted': 3075,\n",
       " 'fulfil': 2901,\n",
       " 'blessing': 1333,\n",
       " 'times': 6515,\n",
       " 'birthdate': 1309,\n",
       " 'certificate': 1637,\n",
       " 'april': 1000,\n",
       " 'date': 2078,\n",
       " 'publish': 5177,\n",
       " 'shall': 5728,\n",
       " 'secret': 5651,\n",
       " 'wishes': 7098,\n",
       " 'hurt': 3386,\n",
       " 'tease': 6377,\n",
       " 'life': 3890,\n",
       " 'die': 2205,\n",
       " 'plz': 4967,\n",
       " 'rose': 5506,\n",
       " 'grave': 3078,\n",
       " 'stupid': 6186,\n",
       " 'nice': 4527,\n",
       " 'bslvyl': 1473,\n",
       " 'cps': 1965,\n",
       " 'outages': 4729,\n",
       " 'conserve': 1892,\n",
       " 'energy': 2477,\n",
       " 'endowed': 2473,\n",
       " 'inches': 3467,\n",
       " 'haha': 3141,\n",
       " 'kidding': 3727,\n",
       " 'papa': 4784,\n",
       " 'drugs': 2367,\n",
       " 'brother': 1464,\n",
       " 'transfered': 6616,\n",
       " 'pa': 4757,\n",
       " 'pin': 4922,\n",
       " 'beauty': 1230,\n",
       " 'second': 5648,\n",
       " 'hides': 3265,\n",
       " 'thousands': 6482,\n",
       " 'secrets': 5654,\n",
       " 'wish': 7097,\n",
       " 'n8': 4430,\n",
       " 'wah': 6925,\n",
       " 'okie': 4656,\n",
       " 'muz': 4421,\n",
       " 'unlimited': 6755,\n",
       " 'uhhhhrmm': 6708,\n",
       " 'isnt': 3563,\n",
       " 'having': 3205,\n",
       " 'tb': 6363,\n",
       " 'bad': 1157,\n",
       " 'youre': 7265,\n",
       " 'sick': 5815,\n",
       " 'delete': 2134,\n",
       " 'felt': 2699,\n",
       " 'conveying': 1915,\n",
       " 'reason': 5296,\n",
       " 'ese': 2527,\n",
       " 'cartons': 1600,\n",
       " 'pleased': 4953,\n",
       " 'shelves': 5744,\n",
       " 'dnt': 2274,\n",
       " 'wnt': 7121,\n",
       " 'tlk': 6534,\n",
       " 'mm': 4302,\n",
       " 'umma': 6716,\n",
       " 'vava': 6841,\n",
       " 'todays': 6550,\n",
       " 'voda': 6893,\n",
       " 'numbers': 4596,\n",
       " 'ending': 2471,\n",
       " '1225': 282,\n",
       " 'selected': 5670,\n",
       " '50award': 536,\n",
       " 'match': 4160,\n",
       " '08712300220': 101,\n",
       " 'quoting': 5227,\n",
       " 'code': 1803,\n",
       " '3100': 440,\n",
       " 'standard': 6085,\n",
       " 'rates': 5263,\n",
       " 'app': 981,\n",
       " 'hi': 3263,\n",
       " 'luv': 4049,\n",
       " 'kate': 3696,\n",
       " 'winner': 7088,\n",
       " 'specially': 6011,\n",
       " 'flights': 2769,\n",
       " 'speak': 6006,\n",
       " 'live': 3940,\n",
       " 'operator': 4688,\n",
       " '0871277810910p': 116,\n",
       " '18': 319,\n",
       " 'bloody': 1345,\n",
       " 'babyjontet': 1153,\n",
       " 'staff': 6077,\n",
       " 'placement': 4934,\n",
       " 'training': 6611,\n",
       " 'amrita': 928,\n",
       " 'college': 1820,\n",
       " 'ideas': 3421,\n",
       " 'bcaz': 1213,\n",
       " 'problem': 5122,\n",
       " 'listen': 3929,\n",
       " 'cann': 1568,\n",
       " 'calls': 1552,\n",
       " 'desparate': 2168,\n",
       " 'recorded': 5322,\n",
       " 'left': 3856,\n",
       " 'hear': 3219,\n",
       " 'sound': 5986,\n",
       " 'people': 4851,\n",
       " 'dogging': 2291,\n",
       " '09090204448': 241,\n",
       " 'join': 3637,\n",
       " 'minded': 4260,\n",
       " 'arrange': 1034,\n",
       " '50': 532,\n",
       " 'minapn': 4258,\n",
       " 'ls278bb': 4032,\n",
       " 'importantly': 3458,\n",
       " 'discuss': 2251,\n",
       " 'took': 6580,\n",
       " 'mistake': 4291,\n",
       " 'walls': 6945,\n",
       " 'hearts': 3225,\n",
       " 'safe': 5554,\n",
       " 'cares': 1589,\n",
       " 'break': 1433,\n",
       " 'closer': 1775,\n",
       " 'goodnoon': 3043,\n",
       " 'letter': 3876,\n",
       " 'video': 6862,\n",
       " '750': 612,\n",
       " 'anytime': 967,\n",
       " 'network': 4509,\n",
       " 'mins': 4269,\n",
       " 'months': 4347,\n",
       " 'reply': 5401,\n",
       " '08000930705': 55,\n",
       " 'geeeee': 2961,\n",
       " 'barely': 1184,\n",
       " 'stand': 6084,\n",
       " '3510i': 449,\n",
       " 'delivered': 2139,\n",
       " '200': 346,\n",
       " 'camcorder': 1555,\n",
       " 'cbe': 1620,\n",
       " 'nowadays': 4587,\n",
       " 'lot': 3999,\n",
       " 'shop': 5772,\n",
       " 'showrooms': 5797,\n",
       " 'city': 1746,\n",
       " 'shaping': 5734,\n",
       " 'update_now': 6773,\n",
       " 'motorola': 4361,\n",
       " 'sonyericsson': 5965,\n",
       " 'bluetooth': 1352,\n",
       " 'double': 2323,\n",
       " 'mobileupd8': 4318,\n",
       " '08000839402': 54,\n",
       " 'call2optout': 1539,\n",
       " 'f4q': 2620,\n",
       " 'let': 3874,\n",
       " 'kanji': 3690,\n",
       " 'eat': 2411,\n",
       " 'heavy': 3230,\n",
       " 'jus': 3671,\n",
       " 'telling': 6389,\n",
       " 'leaving': 3852,\n",
       " 'shanghai': 5731,\n",
       " '21st': 358,\n",
       " 'instead': 3514,\n",
       " 'haf': 3140,\n",
       " 'cya': 2051,\n",
       " 'nope': 4566,\n",
       " 'fri': 2868,\n",
       " 'mys': 4427,\n",
       " 'sis': 5845,\n",
       " 'paper': 4785,\n",
       " 'morn': 4352,\n",
       " 'ew': 2566,\n",
       " 'job': 3629,\n",
       " 'registered': 5352,\n",
       " 'sinco': 5835,\n",
       " 'payee': 4831,\n",
       " 'log': 3963,\n",
       " 'icicibank': 3413,\n",
       " 'urn': 6795,\n",
       " 'confirm': 1879,\n",
       " 'beware': 1282,\n",
       " 'frauds': 2847,\n",
       " 'share': 5735,\n",
       " 'disclose': 2246,\n",
       " 'maybe': 4181,\n",
       " 'leave': 3850,\n",
       " 'credit': 1984,\n",
       " 'card': 1578,\n",
       " 'lar': 3808,\n",
       " 'testing': 6413,\n",
       " 'gd': 2957,\n",
       " 'thk': 6473,\n",
       " 'bathing': 1200,\n",
       " 'dun': 2384,\n",
       " 'disturb': 2261,\n",
       " 'liao': 3881,\n",
       " 'cleaning': 1761,\n",
       " 'dude': 2379,\n",
       " 'saw': 5599,\n",
       " 'parked': 4800,\n",
       " 'sunroof': 6244,\n",
       " 'popped': 5012,\n",
       " 'sux': 6276,\n",
       " 'suffering': 6217,\n",
       " 'fever': 2702,\n",
       " 'dysentry': 2394,\n",
       " 'able': 750,\n",
       " 'office': 4640,\n",
       " 'talk': 6335,\n",
       " 'sexy': 5714,\n",
       " 'fall': 2644,\n",
       " 'worlds': 7155,\n",
       " 'discreet': 2250,\n",
       " 'dating': 2081,\n",
       " 'vip': 6877,\n",
       " '83110': 656,\n",
       " 'cheap': 1673,\n",
       " 'splash': 6036,\n",
       " 'wine': 7084,\n",
       " 'better': 1277,\n",
       " 'taught': 6355,\n",
       " 'ranjith': 5260,\n",
       " 'called': 1544,\n",
       " 'sms': 5914,\n",
       " 'becaus': 1232,\n",
       " 'hes': 3255,\n",
       " 'verifying': 6852,\n",
       " 'project': 5139,\n",
       " 'prabu': 5050,\n",
       " 'juliana': 3663,\n",
       " 'yay': 7233,\n",
       " 'finally': 2731,\n",
       " 'missed': 4285,\n",
       " 'cinema': 1744,\n",
       " 'vibrate': 6858,\n",
       " 'acting': 789,\n",
       " 'texts': 6428,\n",
       " 'asked': 1057,\n",
       " 'shy': 5810,\n",
       " '09058091870': 172,\n",
       " 'revealed': 5450,\n",
       " 'pobox84': 4980,\n",
       " 'm26': 4065,\n",
       " '3uz': 470,\n",
       " 'heard': 3220,\n",
       " 'friday': 2869,\n",
       " 'superior': 6251,\n",
       " 'cthen': 2011,\n",
       " ...}"
      ]
     },
     "execution_count": 69,
     "metadata": {},
     "output_type": "execute_result"
    }
   ],
   "source": [
    "# printing the vocabulary\n",
    "vect.vocabulary_"
   ]
  },
  {
   "cell_type": "code",
   "execution_count": 70,
   "metadata": {
    "colab": {
     "base_uri": "https://localhost:8080/",
     "height": 0
    },
    "id": "ky91W24c7VQB",
    "outputId": "a4c52b36-7fb7-4ba3-d628-7b9c38d6341e"
   },
   "outputs": [
    {
     "data": {
      "text/plain": [
       "7293"
      ]
     },
     "execution_count": 70,
     "metadata": {},
     "output_type": "execute_result"
    }
   ],
   "source": [
    "# vocab size\n",
    "len(vect.vocabulary_.keys())"
   ]
  },
  {
   "cell_type": "code",
   "execution_count": 71,
   "metadata": {
    "id": "3ySNwkPj7VQB"
   },
   "outputs": [],
   "source": [
    "# transforming the train and test datasets\n",
    "X_train_transformed = vect.transform(X_train)\n",
    "X_test_transformed = vect.transform(X_test)"
   ]
  },
  {
   "cell_type": "code",
   "execution_count": 72,
   "metadata": {
    "colab": {
     "base_uri": "https://localhost:8080/",
     "height": 0
    },
    "id": "PEJ9lcgG7VQB",
    "outputId": "f9ad073e-0ea2-4ebd-a19f-0969073ffb9f"
   },
   "outputs": [
    {
     "name": "stdout",
     "output_type": "stream",
     "text": [
      "<class 'scipy.sparse.csr.csr_matrix'>\n",
      "  (0, 830)\t1\n",
      "  (0, 1247)\t1\n",
      "  (0, 1688)\t1\n",
      "  (0, 3089)\t1\n",
      "  (0, 3441)\t1\n",
      "  (0, 3736)\t1\n",
      "  (0, 4203)\t1\n",
      "  (0, 4942)\t1\n",
      "  (0, 5933)\t1\n",
      "  (0, 6636)\t1\n",
      "  (0, 7134)\t1\n",
      "  (1, 2398)\t1\n",
      "  (1, 3025)\t1\n",
      "  (1, 3051)\t1\n",
      "  (1, 3372)\t1\n",
      "  (1, 3709)\t1\n",
      "  (1, 3862)\t1\n",
      "  (1, 3872)\t1\n",
      "  (1, 4801)\t1\n",
      "  (1, 5613)\t1\n",
      "  (1, 6466)\t1\n",
      "  (1, 6595)\t1\n",
      "  (1, 6824)\t1\n",
      "  (2, 2860)\t1\n",
      "  (2, 3672)\t1\n",
      "  :\t:\n",
      "  (4174, 5408)\t1\n",
      "  (4174, 5681)\t1\n",
      "  (4174, 6092)\t1\n",
      "  (4174, 7246)\t1\n",
      "  (4175, 1277)\t1\n",
      "  (4175, 2086)\t1\n",
      "  (4175, 3035)\t1\n",
      "  (4175, 3263)\t1\n",
      "  (4175, 3318)\t1\n",
      "  (4175, 4534)\t1\n",
      "  (4176, 1828)\t1\n",
      "  (4176, 4568)\t1\n",
      "  (4177, 1236)\t1\n",
      "  (4177, 2096)\t1\n",
      "  (4177, 2896)\t1\n",
      "  (4177, 3025)\t1\n",
      "  (4177, 4110)\t1\n",
      "  (4177, 4491)\t1\n",
      "  (4177, 6136)\t1\n",
      "  (4178, 3290)\t1\n",
      "  (4178, 4647)\t1\n",
      "  (4178, 6514)\t1\n",
      "  (4178, 6699)\t1\n",
      "  (4178, 6800)\t1\n",
      "  (4178, 7146)\t1\n"
     ]
    }
   ],
   "source": [
    "# note that the type is transformed (sparse) matrix\n",
    "print(type(X_train_transformed))\n",
    "print(X_train_transformed)"
   ]
  },
  {
   "cell_type": "markdown",
   "metadata": {
    "id": "0h1baiSs7VQC"
   },
   "source": [
    "### 2) Building and Cross-Validation of the Model for Multinomial NB"
   ]
  },
  {
   "cell_type": "code",
   "execution_count": 96,
   "metadata": {
    "id": "1lZxjSPjtfyK"
   },
   "outputs": [],
   "source": [
    "scoring = {'accuracy' : make_scorer(accuracy_score), \n",
    "           'precision' : make_scorer(precision_score),\n",
    "           'recall' : make_scorer(recall_score), \n",
    "           'f1_score' : make_scorer(f1_score)}"
   ]
  },
  {
   "cell_type": "markdown",
   "metadata": {
    "id": "lf7N8TIBFYAo"
   },
   "source": [
    "2.1) 5-fold cross-validation results in terms of accuracy."
   ]
  },
  {
   "cell_type": "code",
   "execution_count": 97,
   "metadata": {
    "colab": {
     "base_uri": "https://localhost:8080/",
     "height": 0
    },
    "id": "SLLVdl2j7VQC",
    "outputId": "abc67b01-6c91-4162-fe2b-fc905f635269"
   },
   "outputs": [
    {
     "name": "stdout",
     "output_type": "stream",
     "text": [
      "Average Cross Validation Accuracy for 5-Folds using Multinomial Naive Bayes:- 0.9775079506059651\n"
     ]
    }
   ],
   "source": [
    "# training the NB model and making predictions\n",
    "start = time.time()\n",
    "mnb = MultinomialNB()\n",
    "#cross validtion\n",
    "score1 = cross_val_score(mnb, X_train_transformed,y_train, cv=5, scoring='accuracy')\n",
    "print(\"Average Cross Validation Accuracy for 5-Folds using Multinomial Naive Bayes:-\",np.mean(score1))\n"
   ]
  },
  {
   "cell_type": "markdown",
   "metadata": {
    "id": "73aR3zH1FhiQ"
   },
   "source": [
    "2.2) 10-fold cross-validation results in terms of precision, recall,and F-score"
   ]
  },
  {
   "cell_type": "code",
   "execution_count": 98,
   "metadata": {
    "colab": {
     "base_uri": "https://localhost:8080/",
     "height": 0
    },
    "id": "3uRTfNermLDj",
    "outputId": "11187e02-43c7-4007-ef85-a59322c5aa9d"
   },
   "outputs": [
    {
     "name": "stdout",
     "output_type": "stream",
     "text": [
      "Average Cross Validation precision for 10-Folds using Multinomial Naive Bayes:- 0.8938246352802433\n",
      "Average Cross Validation recall for 10-Folds using Multinomial Naive Bayes:- 0.9599213551119176\n",
      "Average Cross Validation F1 score for 10-Folds using Multinomial Naive Bayes:- 0.9253089713967491\n",
      "Time taken:- 0.1282963752746582\n"
     ]
    }
   ],
   "source": [
    "score1 = cvd(mnb, X_train_transformed,y_train, cv=10, scoring=scoring)\n",
    "print(\"Average Cross Validation precision for 10-Folds using Multinomial Naive Bayes:-\",score1['test_precision'].mean())\n",
    "print(\"Average Cross Validation recall for 10-Folds using Multinomial Naive Bayes:-\",score1['test_recall'].mean())\n",
    "print(\"Average Cross Validation F1 score for 10-Folds using Multinomial Naive Bayes:-\",score1['test_f1_score'].mean())\n",
    "end =time.time()\n",
    "print(\"Time taken:-\",end-start)"
   ]
  },
  {
   "cell_type": "markdown",
   "metadata": {
    "id": "eyopDJpxF9WJ"
   },
   "source": [
    "2.3) Training Multinomial NB Model"
   ]
  },
  {
   "cell_type": "code",
   "execution_count": 99,
   "metadata": {
    "colab": {
     "base_uri": "https://localhost:8080/",
     "height": 0
    },
    "id": "Dqx-sfDMGD4V",
    "outputId": "25c03d9b-b55d-4ccf-ce3c-2d4198a9ae05"
   },
   "outputs": [
    {
     "name": "stdout",
     "output_type": "stream",
     "text": [
      "Time taken:- 0.15954852104187012\n"
     ]
    }
   ],
   "source": [
    "# fit\n",
    "mnb.fit(X_train_transformed,y_train)\n",
    "\n",
    "# predict class\n",
    "y_pred_class1 = mnb.predict(X_test_transformed)\n",
    "\n",
    "# predict probabilities\n",
    "y_pred_proba1 = mnb.predict_proba(X_test_transformed)\n",
    "\n",
    "#time taken for training and cross validation\n",
    "end =time.time()\n",
    "print(\"Time taken:-\",end-start)"
   ]
  },
  {
   "cell_type": "code",
   "execution_count": 122,
   "metadata": {
    "colab": {
     "base_uri": "https://localhost:8080/",
     "height": 0
    },
    "id": "NSxXRQS3O4dz",
    "outputId": "7dacbe67-2e1f-4799-97f4-e4055eb21fba"
   },
   "outputs": [
    {
     "data": {
      "text/plain": [
       "array([[9.99999999e-01, 1.04542272e-09],\n",
       "       [9.99968215e-01, 3.17847344e-05],\n",
       "       [9.88816562e-01, 1.11834379e-02],\n",
       "       ...,\n",
       "       [9.99998916e-01, 1.08355798e-06],\n",
       "       [3.28345400e-01, 6.71654600e-01],\n",
       "       [9.99893544e-01, 1.06456286e-04]])"
      ]
     },
     "execution_count": 122,
     "metadata": {},
     "output_type": "execute_result"
    }
   ],
   "source": [
    "y_pred_proba1 "
   ]
  },
  {
   "cell_type": "markdown",
   "metadata": {
    "id": "kJKajCMxGeGg"
   },
   "source": [
    "2.4) Model Evaluation"
   ]
  },
  {
   "cell_type": "code",
   "execution_count": 100,
   "metadata": {
    "colab": {
     "base_uri": "https://localhost:8080/",
     "height": 0
    },
    "id": "s5JMqexh7VQC",
    "outputId": "b1150146-31e0-4e00-a42e-13b9822a8bc6"
   },
   "outputs": [
    {
     "data": {
      "text/plain": [
       "0.9856424982053122"
      ]
     },
     "execution_count": 100,
     "metadata": {},
     "output_type": "execute_result"
    }
   ],
   "source": [
    "# printing the overall accuracy\n",
    "metrics.accuracy_score(y_test, y_pred_class1)"
   ]
  },
  {
   "cell_type": "code",
   "execution_count": 101,
   "metadata": {
    "colab": {
     "base_uri": "https://localhost:8080/",
     "height": 428
    },
    "id": "YeJLiiavG7T5",
    "outputId": "965c556c-98ac-4dba-e896-8d8b066af74b"
   },
   "outputs": [
    {
     "data": {
      "image/png": "[encoded data removed]",
      "text/plain": [
       "<Figure size 720x504 with 2 Axes>"
      ]
     },
     "metadata": {
      "needs_background": "light"
     },
     "output_type": "display_data"
    }
   ],
   "source": [
    "# confusion matrix\n",
    "cm=metrics.confusion_matrix(y_test, y_pred_class1)\n",
    "plt.figure(figsize = (10,7))\n",
    "sns.heatmap(cm, annot=True)\n",
    "TN = cm[0, 0]\n",
    "FP = cm[0, 1]\n",
    "FN = cm[1, 0]\n",
    "TP = cm[1, 1]"
   ]
  },
  {
   "cell_type": "code",
   "execution_count": 102,
   "metadata": {
    "colab": {
     "base_uri": "https://localhost:8080/",
     "height": 0
    },
    "id": "sRWRp4VNHN1a",
    "outputId": "6a068a2e-d14e-4c18-b9d5-98def0fa9e65"
   },
   "outputs": [
    {
     "name": "stdout",
     "output_type": "stream",
     "text": [
      "sensitivity 0.9190751445086706\n",
      "specificity 0.9950819672131147\n",
      "precision 0.9636363636363636\n",
      "0.9636363636363636\n",
      "precision 0.9636363636363636\n",
      "PRECISION SCORE : 0.9636363636363636\n",
      "RECALL SCORE : 0.9190751445086706\n",
      "F1 SCORE : 0.9408284023668639\n"
     ]
    }
   ],
   "source": [
    "sensitivity = TP / float(FN + TP)\n",
    "print(\"sensitivity\",sensitivity)\n",
    "specificity = TN / float(TN + FP)\n",
    "print(\"specificity\",specificity)\n",
    "precision = TP / float(TP + FP)\n",
    "print(\"precision\",precision)\n",
    "print(metrics.precision_score(y_test, y_pred_class1))\n",
    "print(\"precision\",precision)\n",
    "print(\"PRECISION SCORE :\",metrics.precision_score(y_test, y_pred_class1))\n",
    "print(\"RECALL SCORE :\", metrics.recall_score(y_test, y_pred_class1))\n",
    "print(\"F1 SCORE :\",metrics.f1_score(y_test, y_pred_class1))"
   ]
  },
  {
   "cell_type": "code",
   "execution_count": 120,
   "metadata": {
    "id": "KIOkPrDmG8M2"
   },
   "outputs": [],
   "source": [
    "# creating an ROC curve\n",
    "false_positive_rate, true_positive_rate, thresholds = roc_curve(y_test, y_pred_proba1[:,1])\n",
    "roc_auc = auc(false_positive_rate, true_positive_rate)"
   ]
  },
  {
   "cell_type": "code",
   "execution_count": 121,
   "metadata": {
    "colab": {
     "base_uri": "https://localhost:8080/",
     "height": 0
    },
    "id": "4017Sdv_Oo0T",
    "outputId": "457f3edd-565f-4748-bcfa-203118a40b49"
   },
   "outputs": [
    {
     "name": "stdout",
     "output_type": "stream",
     "text": [
      "0.9877996778167346\n"
     ]
    }
   ],
   "source": [
    "# area under the curve\n",
    "print (roc_auc)"
   ]
  },
  {
   "cell_type": "code",
   "execution_count": 104,
   "metadata": {
    "colab": {
     "base_uri": "https://localhost:8080/",
     "height": 424
    },
    "id": "4Mv601RCJa9o",
    "outputId": "2b92da87-2074-4e3e-99f5-e9379fb9b076"
   },
   "outputs": [
    {
     "data": {
      "text/html": [
       "\n",
       "  <div id=\"df-0a738986-fa49-4691-a689-7c5a5648a2ab\">\n",
       "    <div class=\"colab-df-container\">\n",
       "      <div>\n",
       "<style scoped>\n",
       "    .dataframe tbody tr th:only-of-type {\n",
       "        vertical-align: middle;\n",
       "    }\n",
       "\n",
       "    .dataframe tbody tr th {\n",
       "        vertical-align: top;\n",
       "    }\n",
       "\n",
       "    .dataframe thead th {\n",
       "        text-align: right;\n",
       "    }\n",
       "</style>\n",
       "<table border=\"1\" class=\"dataframe\">\n",
       "  <thead>\n",
       "    <tr style=\"text-align: right;\">\n",
       "      <th></th>\n",
       "      <th>Threshold</th>\n",
       "      <th>TPR</th>\n",
       "      <th>FPR</th>\n",
       "    </tr>\n",
       "  </thead>\n",
       "  <tbody>\n",
       "    <tr>\n",
       "      <th>0</th>\n",
       "      <td>2.000000e+00</td>\n",
       "      <td>0.000000</td>\n",
       "      <td>0.000000</td>\n",
       "    </tr>\n",
       "    <tr>\n",
       "      <th>1</th>\n",
       "      <td>1.000000e+00</td>\n",
       "      <td>0.335260</td>\n",
       "      <td>0.000000</td>\n",
       "    </tr>\n",
       "    <tr>\n",
       "      <th>2</th>\n",
       "      <td>1.000000e+00</td>\n",
       "      <td>0.341040</td>\n",
       "      <td>0.000000</td>\n",
       "    </tr>\n",
       "    <tr>\n",
       "      <th>3</th>\n",
       "      <td>1.000000e+00</td>\n",
       "      <td>0.352601</td>\n",
       "      <td>0.000000</td>\n",
       "    </tr>\n",
       "    <tr>\n",
       "      <th>4</th>\n",
       "      <td>1.000000e+00</td>\n",
       "      <td>0.381503</td>\n",
       "      <td>0.000000</td>\n",
       "    </tr>\n",
       "    <tr>\n",
       "      <th>...</th>\n",
       "      <td>...</td>\n",
       "      <td>...</td>\n",
       "      <td>...</td>\n",
       "    </tr>\n",
       "    <tr>\n",
       "      <th>116</th>\n",
       "      <td>7.657420e-09</td>\n",
       "      <td>1.000000</td>\n",
       "      <td>0.873770</td>\n",
       "    </tr>\n",
       "    <tr>\n",
       "      <th>117</th>\n",
       "      <td>7.391974e-09</td>\n",
       "      <td>1.000000</td>\n",
       "      <td>0.875410</td>\n",
       "    </tr>\n",
       "    <tr>\n",
       "      <th>118</th>\n",
       "      <td>1.439132e-09</td>\n",
       "      <td>1.000000</td>\n",
       "      <td>0.897541</td>\n",
       "    </tr>\n",
       "    <tr>\n",
       "      <th>119</th>\n",
       "      <td>1.353629e-09</td>\n",
       "      <td>1.000000</td>\n",
       "      <td>0.899180</td>\n",
       "    </tr>\n",
       "    <tr>\n",
       "      <th>120</th>\n",
       "      <td>4.254529e-41</td>\n",
       "      <td>1.000000</td>\n",
       "      <td>1.000000</td>\n",
       "    </tr>\n",
       "  </tbody>\n",
       "</table>\n",
       "<p>121 rows × 3 columns</p>\n",
       "</div>\n",
       "      <button class=\"colab-df-convert\" onclick=\"convertToInteractive('df-0a738986-fa49-4691-a689-7c5a5648a2ab')\"\n",
       "              title=\"Convert this dataframe to an interactive table.\"\n",
       "              style=\"display:none;\">\n",
       "        \n",
       "  <svg xmlns=\"http://www.w3.org/2000/svg\" height=\"24px\"viewBox=\"0 0 24 24\"\n",
       "       width=\"24px\">\n",
       "    <path d=\"M0 0h24v24H0V0z\" fill=\"none\"/>\n",
       "    <path d=\"M18.56 5.44l.94 2.06.94-2.06 2.06-.94-2.06-.94-.94-2.06-.94 2.06-2.06.94zm-11 1L8.5 8.5l.94-2.06 2.06-.94-2.06-.94L8.5 2.5l-.94 2.06-2.06.94zm10 10l.94 2.06.94-2.06 2.06-.94-2.06-.94-.94-2.06-.94 2.06-2.06.94z\"/><path d=\"M17.41 7.96l-1.37-1.37c-.4-.4-.92-.59-1.43-.59-.52 0-1.04.2-1.43.59L10.3 9.45l-7.72 7.72c-.78.78-.78 2.05 0 2.83L4 21.41c.39.39.9.59 1.41.59.51 0 1.02-.2 1.41-.59l7.78-7.78 2.81-2.81c.8-.78.8-2.07 0-2.86zM5.41 20L4 18.59l7.72-7.72 1.47 1.35L5.41 20z\"/>\n",
       "  </svg>\n",
       "      </button>\n",
       "      \n",
       "  <style>\n",
       "    .colab-df-container {\n",
       "      display:flex;\n",
       "      flex-wrap:wrap;\n",
       "      gap: 12px;\n",
       "    }\n",
       "\n",
       "    .colab-df-convert {\n",
       "      background-color: #E8F0FE;\n",
       "      border: none;\n",
       "      border-radius: 50%;\n",
       "      cursor: pointer;\n",
       "      display: none;\n",
       "      fill: #1967D2;\n",
       "      height: 32px;\n",
       "      padding: 0 0 0 0;\n",
       "      width: 32px;\n",
       "    }\n",
       "\n",
       "    .colab-df-convert:hover {\n",
       "      background-color: #E2EBFA;\n",
       "      box-shadow: 0px 1px 2px rgba(60, 64, 67, 0.3), 0px 1px 3px 1px rgba(60, 64, 67, 0.15);\n",
       "      fill: #174EA6;\n",
       "    }\n",
       "\n",
       "    [theme=dark] .colab-df-convert {\n",
       "      background-color: #3B4455;\n",
       "      fill: #D2E3FC;\n",
       "    }\n",
       "\n",
       "    [theme=dark] .colab-df-convert:hover {\n",
       "      background-color: #434B5C;\n",
       "      box-shadow: 0px 1px 3px 1px rgba(0, 0, 0, 0.15);\n",
       "      filter: drop-shadow(0px 1px 2px rgba(0, 0, 0, 0.3));\n",
       "      fill: #FFFFFF;\n",
       "    }\n",
       "  </style>\n",
       "\n",
       "      <script>\n",
       "        const buttonEl =\n",
       "          document.querySelector('#df-0a738986-fa49-4691-a689-7c5a5648a2ab button.colab-df-convert');\n",
       "        buttonEl.style.display =\n",
       "          google.colab.kernel.accessAllowed ? 'block' : 'none';\n",
       "\n",
       "        async function convertToInteractive(key) {\n",
       "          const element = document.querySelector('#df-0a738986-fa49-4691-a689-7c5a5648a2ab');\n",
       "          const dataTable =\n",
       "            await google.colab.kernel.invokeFunction('convertToInteractive',\n",
       "                                                     [key], {});\n",
       "          if (!dataTable) return;\n",
       "\n",
       "          const docLinkHtml = 'Like what you see? Visit the ' +\n",
       "            '<a target=\"_blank\" href=https://colab.research.google.com/notebooks/data_table.ipynb>data table notebook</a>'\n",
       "            + ' to learn more about interactive tables.';\n",
       "          element.innerHTML = '';\n",
       "          dataTable['output_type'] = 'display_data';\n",
       "          await google.colab.output.renderOutput(dataTable, element);\n",
       "          const docLink = document.createElement('div');\n",
       "          docLink.innerHTML = docLinkHtml;\n",
       "          element.appendChild(docLink);\n",
       "        }\n",
       "      </script>\n",
       "    </div>\n",
       "  </div>\n",
       "  "
      ],
      "text/plain": [
       "        Threshold       TPR       FPR\n",
       "0    2.000000e+00  0.000000  0.000000\n",
       "1    1.000000e+00  0.335260  0.000000\n",
       "2    1.000000e+00  0.341040  0.000000\n",
       "3    1.000000e+00  0.352601  0.000000\n",
       "4    1.000000e+00  0.381503  0.000000\n",
       "..            ...       ...       ...\n",
       "116  7.657420e-09  1.000000  0.873770\n",
       "117  7.391974e-09  1.000000  0.875410\n",
       "118  1.439132e-09  1.000000  0.897541\n",
       "119  1.353629e-09  1.000000  0.899180\n",
       "120  4.254529e-41  1.000000  1.000000\n",
       "\n",
       "[121 rows x 3 columns]"
      ]
     },
     "execution_count": 104,
     "metadata": {},
     "output_type": "execute_result"
    }
   ],
   "source": [
    "# matrix of thresholds, tpr, fpr\n",
    "pd.DataFrame({'Threshold': thresholds, \n",
    "              'TPR': true_positive_rate, \n",
    "              'FPR':false_positive_rate\n",
    "             })"
   ]
  },
  {
   "cell_type": "code",
   "execution_count": 105,
   "metadata": {
    "colab": {
     "base_uri": "https://localhost:8080/",
     "height": 312
    },
    "id": "cxPK_vhIJiEu",
    "outputId": "564c0281-5d81-4e59-93bf-9115bfedd863"
   },
   "outputs": [
    {
     "data": {
      "text/plain": [
       "[<matplotlib.lines.Line2D at 0x7f5e3c103310>]"
      ]
     },
     "execution_count": 105,
     "metadata": {},
     "output_type": "execute_result"
    },
    {
     "data": {
      "image/png": "[encoded data removed]",
      "text/plain": [
       "<Figure size 432x288 with 1 Axes>"
      ]
     },
     "metadata": {
      "needs_background": "light"
     },
     "output_type": "display_data"
    }
   ],
   "source": [
    "# plotting the ROC curve\n",
    "%matplotlib inline  \n",
    "plt.ylabel('True Positive Rate')\n",
    "plt.xlabel('False Positive Rate')\n",
    "plt.title('ROC')\n",
    "plt.plot(false_positive_rate, true_positive_rate)"
   ]
  },
  {
   "cell_type": "code",
   "execution_count": 106,
   "metadata": {
    "colab": {
     "base_uri": "https://localhost:8080/",
     "height": 0
    },
    "id": "e9Rqp67MNkVJ",
    "outputId": "8788d54a-3840-4855-d34a-31d102544137"
   },
   "outputs": [
    {
     "name": "stdout",
     "output_type": "stream",
     "text": [
      "[0]\n"
     ]
    }
   ],
   "source": [
    "input1 = ['Submit AI Assignment']\n",
    "input1_transform = vect.transform(input1)\n",
    "print(mnb.predict(input1_transform))"
   ]
  },
  {
   "cell_type": "code",
   "execution_count": 107,
   "metadata": {
    "colab": {
     "base_uri": "https://localhost:8080/",
     "height": 0
    },
    "id": "WKVxhj86Np9Y",
    "outputId": "a5d1f764-e463-45d1-b4c4-49b487ea3637"
   },
   "outputs": [
    {
     "name": "stdout",
     "output_type": "stream",
     "text": [
      "[1]\n"
     ]
    }
   ],
   "source": [
    "#input2 = ['Will pick you at 7pm']\n",
    "input2 =['Free entry in 2 a wkly comp to win cricket wrld cup final']\n",
    "input2_transform = vect.transform(input2)\n",
    "print(mnb.predict(input2_transform))"
   ]
  },
  {
   "cell_type": "markdown",
   "metadata": {
    "id": "ReURsLsdqxaC"
   },
   "source": [
    "###3) Building and Cross-Validation of the Model for Multivariate NB"
   ]
  },
  {
   "cell_type": "markdown",
   "metadata": {
    "id": "xEyf2_JsKiph"
   },
   "source": [
    "3.1) 5-fold cross-validation results in terms of accuracy."
   ]
  },
  {
   "cell_type": "code",
   "execution_count": 108,
   "metadata": {
    "colab": {
     "base_uri": "https://localhost:8080/",
     "height": 0
    },
    "id": "o69nZ9ZNq9PX",
    "outputId": "5a768f0b-3d2f-45c2-bbbf-bcd2071d693c"
   },
   "outputs": [
    {
     "name": "stdout",
     "output_type": "stream",
     "text": [
      "Average Cross Validation Accuracy for 5-Folds using Multivariate Naive Bayes:- 0.9734395324184166\n"
     ]
    }
   ],
   "source": [
    "start = time.time()\n",
    "mvb=BernoulliNB()\n",
    "#cross validtion\n",
    "score2 = cross_val_score(mvb, X_train_transformed,y_train, cv=5, scoring='accuracy')\n",
    "print(\"Average Cross Validation Accuracy for 5-Folds using Multivariate Naive Bayes:-\",np.mean(score2))"
   ]
  },
  {
   "cell_type": "markdown",
   "metadata": {
    "id": "wwCRIFO7Kkgy"
   },
   "source": [
    "3.2) 10-fold cross-validation results in terms of precision, recall,and F-score"
   ]
  },
  {
   "cell_type": "code",
   "execution_count": 109,
   "metadata": {
    "colab": {
     "base_uri": "https://localhost:8080/",
     "height": 0
    },
    "id": "QAd-c3misHmY",
    "outputId": "ea8f1cb0-7b5b-4fc9-9069-407273062250"
   },
   "outputs": [
    {
     "name": "stdout",
     "output_type": "stream",
     "text": [
      "Average Cross Validation precision for 10-Folds using Multivariate Naive Bayes:- 0.9733145572019092\n",
      "Average Cross Validation recall for 10-Folds using Multivariate Naive Bayes:- 0.857047791893527\n",
      "Average Cross Validation F1 score for 10-Folds using Multivariate Naive Bayes:- 0.9104419163408396\n"
     ]
    }
   ],
   "source": [
    "score2 = cvd(mvb, X_train_transformed,y_train, cv=10, scoring=scoring)\n",
    "print(\"Average Cross Validation precision for 10-Folds using Multivariate Naive Bayes:-\",score2['test_precision'].mean())\n",
    "print(\"Average Cross Validation recall for 10-Folds using Multivariate Naive Bayes:-\",score2['test_recall'].mean())\n",
    "print(\"Average Cross Validation F1 score for 10-Folds using Multivariate Naive Bayes:-\",score2['test_f1_score'].mean())"
   ]
  },
  {
   "cell_type": "markdown",
   "metadata": {
    "id": "G5j2uHHLKSaQ"
   },
   "source": [
    "3.3) Training Multivariate NB Model "
   ]
  },
  {
   "cell_type": "code",
   "execution_count": 110,
   "metadata": {
    "colab": {
     "base_uri": "https://localhost:8080/",
     "height": 0
    },
    "id": "fW-Rz8uQfbrD",
    "outputId": "5c8c2a77-f1f7-4bf9-be03-6da19f779326"
   },
   "outputs": [
    {
     "name": "stdout",
     "output_type": "stream",
     "text": [
      "Time taken:- 0.17893671989440918\n"
     ]
    }
   ],
   "source": [
    "# fit\n",
    "mvb.fit(X_train_transformed,y_train)\n",
    "\n",
    "# predict class\n",
    "y_pred_class2 = mvb.predict(X_test_transformed)\n",
    "\n",
    "# predict probabilities\n",
    "y_pred_proba2 = mvb.predict_proba(X_test_transformed)\n",
    "\n",
    "#time taken for training and cross validation\n",
    "end =time.time()\n",
    "print(\"Time taken:-\",end-start)"
   ]
  },
  {
   "cell_type": "markdown",
   "metadata": {
    "id": "jp0INW1viDRJ"
   },
   "source": [
    "3.4) Model Evaluation"
   ]
  },
  {
   "cell_type": "code",
   "execution_count": 111,
   "metadata": {
    "colab": {
     "base_uri": "https://localhost:8080/",
     "height": 428
    },
    "id": "xrcGHw-Z7VQD",
    "outputId": "b5146806-21a4-4bcd-d44e-896308126e8f"
   },
   "outputs": [
    {
     "data": {
      "image/png": "[encoded data removed]",
      "text/plain": [
       "<Figure size 720x504 with 2 Axes>"
      ]
     },
     "metadata": {
      "needs_background": "light"
     },
     "output_type": "display_data"
    }
   ],
   "source": [
    "# confusion matrix\n",
    "cm=metrics.confusion_matrix(y_test, y_pred_class2)\n",
    "plt.figure(figsize = (10,7))\n",
    "sns.heatmap(cm, annot=True)\n",
    "TN = cm[0, 0]\n",
    "FP = cm[0, 1]\n",
    "FN = cm[1, 0]\n",
    "TP = cm[1, 1]"
   ]
  },
  {
   "cell_type": "code",
   "execution_count": 112,
   "metadata": {
    "colab": {
     "base_uri": "https://localhost:8080/",
     "height": 0
    },
    "id": "Pn4D24stMCa7",
    "outputId": "dc15a29c-80b4-4266-9815-6235aa4cecfa"
   },
   "outputs": [
    {
     "name": "stdout",
     "output_type": "stream",
     "text": [
      "sensitivity 0.8265895953757225\n",
      "specificity 0.9991803278688525\n",
      "precision 0.9930555555555556\n",
      "0.9636363636363636\n",
      "precision 0.9930555555555556\n",
      "PRECISION SCORE : 0.9636363636363636\n",
      "RECALL SCORE : 0.9190751445086706\n",
      "F1 SCORE : 0.9408284023668639\n"
     ]
    }
   ],
   "source": [
    "sensitivity = TP / float(FN + TP)\n",
    "print(\"sensitivity\",sensitivity)\n",
    "specificity = TN / float(TN + FP)\n",
    "print(\"specificity\",specificity)\n",
    "precision = TP / float(TP + FP)\n",
    "print(\"precision\",precision)\n",
    "print(metrics.precision_score(y_test, y_pred_class1))\n",
    "print(\"precision\",precision)\n",
    "print(\"PRECISION SCORE :\",metrics.precision_score(y_test, y_pred_class1))\n",
    "print(\"RECALL SCORE :\", metrics.recall_score(y_test, y_pred_class1))\n",
    "print(\"F1 SCORE :\",metrics.f1_score(y_test, y_pred_class1))"
   ]
  },
  {
   "cell_type": "code",
   "execution_count": 113,
   "metadata": {
    "id": "7j06OGsm7VQE"
   },
   "outputs": [],
   "source": [
    "# creating an ROC curve\n",
    "false_positive_rate, true_positive_rate, thresholds = roc_curve(y_test, y_pred_proba2[:,1])\n",
    "roc_auc = auc(false_positive_rate, true_positive_rate)"
   ]
  },
  {
   "cell_type": "code",
   "execution_count": 114,
   "metadata": {
    "colab": {
     "base_uri": "https://localhost:8080/",
     "height": 0
    },
    "id": "ukKQ2HLZ7VQE",
    "outputId": "02773322-1476-4a2d-ae37-064a056aebc1"
   },
   "outputs": [
    {
     "name": "stdout",
     "output_type": "stream",
     "text": [
      "0.9928740642471334\n"
     ]
    }
   ],
   "source": [
    "# area under the curve\n",
    "print (roc_auc)"
   ]
  },
  {
   "cell_type": "code",
   "execution_count": 115,
   "metadata": {
    "colab": {
     "base_uri": "https://localhost:8080/",
     "height": 424
    },
    "id": "LHNVql3s7VQE",
    "outputId": "985d9c11-76b6-4c3b-cd23-114900b367dc"
   },
   "outputs": [
    {
     "data": {
      "text/html": [
       "\n",
       "  <div id=\"df-0662ba83-eaad-4538-bb05-c25a5349359a\">\n",
       "    <div class=\"colab-df-container\">\n",
       "      <div>\n",
       "<style scoped>\n",
       "    .dataframe tbody tr th:only-of-type {\n",
       "        vertical-align: middle;\n",
       "    }\n",
       "\n",
       "    .dataframe tbody tr th {\n",
       "        vertical-align: top;\n",
       "    }\n",
       "\n",
       "    .dataframe thead th {\n",
       "        text-align: right;\n",
       "    }\n",
       "</style>\n",
       "<table border=\"1\" class=\"dataframe\">\n",
       "  <thead>\n",
       "    <tr style=\"text-align: right;\">\n",
       "      <th></th>\n",
       "      <th>Threshold</th>\n",
       "      <th>TPR</th>\n",
       "      <th>FPR</th>\n",
       "    </tr>\n",
       "  </thead>\n",
       "  <tbody>\n",
       "    <tr>\n",
       "      <th>0</th>\n",
       "      <td>2.000000e+00</td>\n",
       "      <td>0.000000</td>\n",
       "      <td>0.000000</td>\n",
       "    </tr>\n",
       "    <tr>\n",
       "      <th>1</th>\n",
       "      <td>1.000000e+00</td>\n",
       "      <td>0.277457</td>\n",
       "      <td>0.000000</td>\n",
       "    </tr>\n",
       "    <tr>\n",
       "      <th>2</th>\n",
       "      <td>1.000000e+00</td>\n",
       "      <td>0.323699</td>\n",
       "      <td>0.000000</td>\n",
       "    </tr>\n",
       "    <tr>\n",
       "      <th>3</th>\n",
       "      <td>1.000000e+00</td>\n",
       "      <td>0.358382</td>\n",
       "      <td>0.000000</td>\n",
       "    </tr>\n",
       "    <tr>\n",
       "      <th>4</th>\n",
       "      <td>1.000000e+00</td>\n",
       "      <td>0.369942</td>\n",
       "      <td>0.000000</td>\n",
       "    </tr>\n",
       "    <tr>\n",
       "      <th>...</th>\n",
       "      <td>...</td>\n",
       "      <td>...</td>\n",
       "      <td>...</td>\n",
       "    </tr>\n",
       "    <tr>\n",
       "      <th>109</th>\n",
       "      <td>7.616407e-13</td>\n",
       "      <td>1.000000</td>\n",
       "      <td>0.914754</td>\n",
       "    </tr>\n",
       "    <tr>\n",
       "      <th>110</th>\n",
       "      <td>7.290602e-13</td>\n",
       "      <td>1.000000</td>\n",
       "      <td>0.918852</td>\n",
       "    </tr>\n",
       "    <tr>\n",
       "      <th>111</th>\n",
       "      <td>4.953348e-13</td>\n",
       "      <td>1.000000</td>\n",
       "      <td>0.928689</td>\n",
       "    </tr>\n",
       "    <tr>\n",
       "      <th>112</th>\n",
       "      <td>4.784730e-13</td>\n",
       "      <td>1.000000</td>\n",
       "      <td>0.930328</td>\n",
       "    </tr>\n",
       "    <tr>\n",
       "      <th>113</th>\n",
       "      <td>4.286702e-17</td>\n",
       "      <td>1.000000</td>\n",
       "      <td>1.000000</td>\n",
       "    </tr>\n",
       "  </tbody>\n",
       "</table>\n",
       "<p>114 rows × 3 columns</p>\n",
       "</div>\n",
       "      <button class=\"colab-df-convert\" onclick=\"convertToInteractive('df-0662ba83-eaad-4538-bb05-c25a5349359a')\"\n",
       "              title=\"Convert this dataframe to an interactive table.\"\n",
       "              style=\"display:none;\">\n",
       "        \n",
       "  <svg xmlns=\"http://www.w3.org/2000/svg\" height=\"24px\"viewBox=\"0 0 24 24\"\n",
       "       width=\"24px\">\n",
       "    <path d=\"M0 0h24v24H0V0z\" fill=\"none\"/>\n",
       "    <path d=\"M18.56 5.44l.94 2.06.94-2.06 2.06-.94-2.06-.94-.94-2.06-.94 2.06-2.06.94zm-11 1L8.5 8.5l.94-2.06 2.06-.94-2.06-.94L8.5 2.5l-.94 2.06-2.06.94zm10 10l.94 2.06.94-2.06 2.06-.94-2.06-.94-.94-2.06-.94 2.06-2.06.94z\"/><path d=\"M17.41 7.96l-1.37-1.37c-.4-.4-.92-.59-1.43-.59-.52 0-1.04.2-1.43.59L10.3 9.45l-7.72 7.72c-.78.78-.78 2.05 0 2.83L4 21.41c.39.39.9.59 1.41.59.51 0 1.02-.2 1.41-.59l7.78-7.78 2.81-2.81c.8-.78.8-2.07 0-2.86zM5.41 20L4 18.59l7.72-7.72 1.47 1.35L5.41 20z\"/>\n",
       "  </svg>\n",
       "      </button>\n",
       "      \n",
       "  <style>\n",
       "    .colab-df-container {\n",
       "      display:flex;\n",
       "      flex-wrap:wrap;\n",
       "      gap: 12px;\n",
       "    }\n",
       "\n",
       "    .colab-df-convert {\n",
       "      background-color: #E8F0FE;\n",
       "      border: none;\n",
       "      border-radius: 50%;\n",
       "      cursor: pointer;\n",
       "      display: none;\n",
       "      fill: #1967D2;\n",
       "      height: 32px;\n",
       "      padding: 0 0 0 0;\n",
       "      width: 32px;\n",
       "    }\n",
       "\n",
       "    .colab-df-convert:hover {\n",
       "      background-color: #E2EBFA;\n",
       "      box-shadow: 0px 1px 2px rgba(60, 64, 67, 0.3), 0px 1px 3px 1px rgba(60, 64, 67, 0.15);\n",
       "      fill: #174EA6;\n",
       "    }\n",
       "\n",
       "    [theme=dark] .colab-df-convert {\n",
       "      background-color: #3B4455;\n",
       "      fill: #D2E3FC;\n",
       "    }\n",
       "\n",
       "    [theme=dark] .colab-df-convert:hover {\n",
       "      background-color: #434B5C;\n",
       "      box-shadow: 0px 1px 3px 1px rgba(0, 0, 0, 0.15);\n",
       "      filter: drop-shadow(0px 1px 2px rgba(0, 0, 0, 0.3));\n",
       "      fill: #FFFFFF;\n",
       "    }\n",
       "  </style>\n",
       "\n",
       "      <script>\n",
       "        const buttonEl =\n",
       "          document.querySelector('#df-0662ba83-eaad-4538-bb05-c25a5349359a button.colab-df-convert');\n",
       "        buttonEl.style.display =\n",
       "          google.colab.kernel.accessAllowed ? 'block' : 'none';\n",
       "\n",
       "        async function convertToInteractive(key) {\n",
       "          const element = document.querySelector('#df-0662ba83-eaad-4538-bb05-c25a5349359a');\n",
       "          const dataTable =\n",
       "            await google.colab.kernel.invokeFunction('convertToInteractive',\n",
       "                                                     [key], {});\n",
       "          if (!dataTable) return;\n",
       "\n",
       "          const docLinkHtml = 'Like what you see? Visit the ' +\n",
       "            '<a target=\"_blank\" href=https://colab.research.google.com/notebooks/data_table.ipynb>data table notebook</a>'\n",
       "            + ' to learn more about interactive tables.';\n",
       "          element.innerHTML = '';\n",
       "          dataTable['output_type'] = 'display_data';\n",
       "          await google.colab.output.renderOutput(dataTable, element);\n",
       "          const docLink = document.createElement('div');\n",
       "          docLink.innerHTML = docLinkHtml;\n",
       "          element.appendChild(docLink);\n",
       "        }\n",
       "      </script>\n",
       "    </div>\n",
       "  </div>\n",
       "  "
      ],
      "text/plain": [
       "        Threshold       TPR       FPR\n",
       "0    2.000000e+00  0.000000  0.000000\n",
       "1    1.000000e+00  0.277457  0.000000\n",
       "2    1.000000e+00  0.323699  0.000000\n",
       "3    1.000000e+00  0.358382  0.000000\n",
       "4    1.000000e+00  0.369942  0.000000\n",
       "..            ...       ...       ...\n",
       "109  7.616407e-13  1.000000  0.914754\n",
       "110  7.290602e-13  1.000000  0.918852\n",
       "111  4.953348e-13  1.000000  0.928689\n",
       "112  4.784730e-13  1.000000  0.930328\n",
       "113  4.286702e-17  1.000000  1.000000\n",
       "\n",
       "[114 rows x 3 columns]"
      ]
     },
     "execution_count": 115,
     "metadata": {},
     "output_type": "execute_result"
    }
   ],
   "source": [
    "# matrix of thresholds, tpr, fpr\n",
    "pd.DataFrame({'Threshold': thresholds, \n",
    "              'TPR': true_positive_rate, \n",
    "              'FPR':false_positive_rate\n",
    "             })"
   ]
  },
  {
   "cell_type": "code",
   "execution_count": 116,
   "metadata": {
    "colab": {
     "base_uri": "https://localhost:8080/",
     "height": 312
    },
    "id": "zVPW05Rv7VQE",
    "outputId": "4491630a-8258-4a21-ac4d-a9578a24a9f9"
   },
   "outputs": [
    {
     "data": {
      "text/plain": [
       "[<matplotlib.lines.Line2D at 0x7f5e3bf1d450>]"
      ]
     },
     "execution_count": 116,
     "metadata": {},
     "output_type": "execute_result"
    },
    {
     "data": {
      "image/png": "[encoded data removed]",
      "text/plain": [
       "<Figure size 432x288 with 1 Axes>"
      ]
     },
     "metadata": {
      "needs_background": "light"
     },
     "output_type": "display_data"
    }
   ],
   "source": [
    "# plotting the ROC curve\n",
    "%matplotlib inline  \n",
    "plt.ylabel('True Positive Rate')\n",
    "plt.xlabel('False Positive Rate')\n",
    "plt.title('ROC')\n",
    "plt.plot(false_positive_rate, true_positive_rate)"
   ]
  },
  {
   "cell_type": "code",
   "execution_count": 117,
   "metadata": {
    "colab": {
     "base_uri": "https://localhost:8080/",
     "height": 0
    },
    "id": "AKyiSi3mOYTD",
    "outputId": "68601787-a200-4452-e620-71bc5b4a6916"
   },
   "outputs": [
    {
     "name": "stdout",
     "output_type": "stream",
     "text": [
      "[0]\n"
     ]
    }
   ],
   "source": [
    "input1 = ['Submit AI Assignment']\n",
    "input1_transform = vect.transform(input1)\n",
    "print(mvb.predict(input1_transform))"
   ]
  },
  {
   "cell_type": "code",
   "execution_count": 118,
   "metadata": {
    "colab": {
     "base_uri": "https://localhost:8080/",
     "height": 0
    },
    "id": "DGyp0PABOhx8",
    "outputId": "48574133-8060-4a5b-a62c-35edb9393613"
   },
   "outputs": [
    {
     "name": "stdout",
     "output_type": "stream",
     "text": [
      "[1]\n"
     ]
    }
   ],
   "source": [
    "#input2 = ['Will pick you at 7pm']\n",
    "input2 =['Free entry in 2 a wkly comp to win cricket Cup final']\n",
    "input2_transform = vect.transform(input2)\n",
    "print(mvb.predict(input2_transform))"
   ]
  }
 ],
 "metadata": {
  "anaconda-cloud": {},
  "colab": {
   "provenance": []
  },
  "kernelspec": {
   "display_name": "Python 3 (ipykernel)",
   "language": "python",
   "name": "python3"
  },
  "language_info": {
   "codemirror_mode": {
    "name": "ipython",
    "version": 3
   },
   "file_extension": ".py",
   "mimetype": "text/x-python",
   "name": "python",
   "nbconvert_exporter": "python",
   "pygments_lexer": "ipython3",
   "version": "3.10.6"
  },
  "vscode": {
   "interpreter": {
    "hash": "48bf38da8ff79f736d14af5b3100860e26e1397580f535803c90cc7837dc803e"
   }
  }
 },
 "nbformat": 4,
 "nbformat_minor": 1
}
