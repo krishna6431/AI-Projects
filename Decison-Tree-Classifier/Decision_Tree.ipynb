{
  "cells": [
    {
      "cell_type": "code",
      "source": [
        "nltk.download()"
      ],
      "metadata": {
        "colab": {
          "base_uri": "https://localhost:8080/"
        },
        "id": "dxQiRNqickW7",
        "outputId": "96325466-c7a6-4eae-9a6e-048d98ecb042"
      },
      "id": "dxQiRNqickW7",
      "execution_count": 28,
      "outputs": [
        {
          "name": "stdout",
          "output_type": "stream",
          "text": [
            "NLTK Downloader\n",
            "---------------------------------------------------------------------------\n",
            "    d) Download   l) List    u) Update   c) Config   h) Help   q) Quit\n",
            "---------------------------------------------------------------------------\n",
            "Downloader> d\n",
            "\n",
            "Download which package (l=list; x=cancel)?\n",
            "  Identifier> all\n"
          ]
        },
        {
          "output_type": "stream",
          "name": "stderr",
          "text": [
            "    Downloading collection 'all'\n",
            "       | \n",
            "       | Downloading package abc to /root/nltk_data...\n",
            "       |   Unzipping corpora/abc.zip.\n",
            "       | Downloading package alpino to /root/nltk_data...\n",
            "       |   Unzipping corpora/alpino.zip.\n",
            "       | Downloading package averaged_perceptron_tagger to\n",
            "       |     /root/nltk_data...\n",
            "       |   Unzipping taggers/averaged_perceptron_tagger.zip.\n",
            "       | Downloading package averaged_perceptron_tagger_ru to\n",
            "       |     /root/nltk_data...\n",
            "       |   Unzipping taggers/averaged_perceptron_tagger_ru.zip.\n",
            "       | Downloading package basque_grammars to /root/nltk_data...\n",
            "       |   Unzipping grammars/basque_grammars.zip.\n",
            "       | Downloading package biocreative_ppi to /root/nltk_data...\n",
            "       |   Unzipping corpora/biocreative_ppi.zip.\n",
            "       | Downloading package bllip_wsj_no_aux to /root/nltk_data...\n",
            "       |   Unzipping models/bllip_wsj_no_aux.zip.\n",
            "       | Downloading package book_grammars to /root/nltk_data...\n",
            "       |   Unzipping grammars/book_grammars.zip.\n",
            "       | Downloading package brown to /root/nltk_data...\n",
            "       |   Unzipping corpora/brown.zip.\n",
            "       | Downloading package brown_tei to /root/nltk_data...\n",
            "       |   Unzipping corpora/brown_tei.zip.\n",
            "       | Downloading package cess_cat to /root/nltk_data...\n",
            "       |   Unzipping corpora/cess_cat.zip.\n",
            "       | Downloading package cess_esp to /root/nltk_data...\n",
            "       |   Unzipping corpora/cess_esp.zip.\n",
            "       | Downloading package chat80 to /root/nltk_data...\n",
            "       |   Unzipping corpora/chat80.zip.\n",
            "       | Downloading package city_database to /root/nltk_data...\n",
            "       |   Unzipping corpora/city_database.zip.\n",
            "       | Downloading package cmudict to /root/nltk_data...\n",
            "       |   Unzipping corpora/cmudict.zip.\n",
            "       | Downloading package comparative_sentences to\n",
            "       |     /root/nltk_data...\n",
            "       |   Unzipping corpora/comparative_sentences.zip.\n",
            "       | Downloading package comtrans to /root/nltk_data...\n",
            "       | Downloading package conll2000 to /root/nltk_data...\n",
            "       |   Unzipping corpora/conll2000.zip.\n",
            "       | Downloading package conll2002 to /root/nltk_data...\n",
            "       |   Unzipping corpora/conll2002.zip.\n",
            "       | Downloading package conll2007 to /root/nltk_data...\n",
            "       | Downloading package crubadan to /root/nltk_data...\n",
            "       |   Unzipping corpora/crubadan.zip.\n",
            "       | Downloading package dependency_treebank to /root/nltk_data...\n",
            "       |   Unzipping corpora/dependency_treebank.zip.\n",
            "       | Downloading package dolch to /root/nltk_data...\n",
            "       |   Unzipping corpora/dolch.zip.\n",
            "       | Downloading package europarl_raw to /root/nltk_data...\n",
            "       |   Unzipping corpora/europarl_raw.zip.\n",
            "       | Downloading package extended_omw to /root/nltk_data...\n",
            "       | Downloading package floresta to /root/nltk_data...\n",
            "       |   Unzipping corpora/floresta.zip.\n",
            "       | Downloading package framenet_v15 to /root/nltk_data...\n",
            "       |   Unzipping corpora/framenet_v15.zip.\n",
            "       | Downloading package framenet_v17 to /root/nltk_data...\n",
            "       |   Unzipping corpora/framenet_v17.zip.\n",
            "       | Downloading package gazetteers to /root/nltk_data...\n",
            "       |   Unzipping corpora/gazetteers.zip.\n",
            "       | Downloading package genesis to /root/nltk_data...\n",
            "       |   Unzipping corpora/genesis.zip.\n",
            "       | Downloading package gutenberg to /root/nltk_data...\n",
            "       |   Unzipping corpora/gutenberg.zip.\n",
            "       | Downloading package ieer to /root/nltk_data...\n",
            "       |   Unzipping corpora/ieer.zip.\n",
            "       | Downloading package inaugural to /root/nltk_data...\n",
            "       |   Unzipping corpora/inaugural.zip.\n",
            "       | Downloading package indian to /root/nltk_data...\n",
            "       |   Unzipping corpora/indian.zip.\n",
            "       | Downloading package jeita to /root/nltk_data...\n",
            "       | Downloading package kimmo to /root/nltk_data...\n",
            "       |   Unzipping corpora/kimmo.zip.\n",
            "       | Downloading package knbc to /root/nltk_data...\n",
            "       | Downloading package large_grammars to /root/nltk_data...\n",
            "       |   Unzipping grammars/large_grammars.zip.\n",
            "       | Downloading package lin_thesaurus to /root/nltk_data...\n",
            "       |   Unzipping corpora/lin_thesaurus.zip.\n",
            "       | Downloading package mac_morpho to /root/nltk_data...\n",
            "       |   Unzipping corpora/mac_morpho.zip.\n",
            "       | Downloading package machado to /root/nltk_data...\n",
            "       | Downloading package masc_tagged to /root/nltk_data...\n",
            "       | Downloading package maxent_ne_chunker to /root/nltk_data...\n",
            "       |   Unzipping chunkers/maxent_ne_chunker.zip.\n",
            "       | Downloading package maxent_treebank_pos_tagger to\n",
            "       |     /root/nltk_data...\n",
            "       |   Unzipping taggers/maxent_treebank_pos_tagger.zip.\n",
            "       | Downloading package moses_sample to /root/nltk_data...\n",
            "       |   Unzipping models/moses_sample.zip.\n",
            "       | Downloading package movie_reviews to /root/nltk_data...\n",
            "       |   Unzipping corpora/movie_reviews.zip.\n",
            "       | Downloading package mte_teip5 to /root/nltk_data...\n",
            "       |   Unzipping corpora/mte_teip5.zip.\n",
            "       | Downloading package mwa_ppdb to /root/nltk_data...\n",
            "       |   Unzipping misc/mwa_ppdb.zip.\n",
            "       | Downloading package names to /root/nltk_data...\n",
            "       |   Unzipping corpora/names.zip.\n",
            "       | Downloading package nombank.1.0 to /root/nltk_data...\n",
            "       | Downloading package nonbreaking_prefixes to\n",
            "       |     /root/nltk_data...\n",
            "       |   Unzipping corpora/nonbreaking_prefixes.zip.\n",
            "       | Downloading package nps_chat to /root/nltk_data...\n",
            "       |   Unzipping corpora/nps_chat.zip.\n",
            "       | Downloading package omw to /root/nltk_data...\n",
            "       | Downloading package omw-1.4 to /root/nltk_data...\n",
            "       | Downloading package opinion_lexicon to /root/nltk_data...\n",
            "       |   Unzipping corpora/opinion_lexicon.zip.\n",
            "       | Downloading package panlex_swadesh to /root/nltk_data...\n",
            "       | Downloading package paradigms to /root/nltk_data...\n",
            "       |   Unzipping corpora/paradigms.zip.\n",
            "       | Downloading package pe08 to /root/nltk_data...\n",
            "       |   Unzipping corpora/pe08.zip.\n",
            "       | Downloading package perluniprops to /root/nltk_data...\n",
            "       |   Unzipping misc/perluniprops.zip.\n",
            "       | Downloading package pil to /root/nltk_data...\n",
            "       |   Unzipping corpora/pil.zip.\n",
            "       | Downloading package pl196x to /root/nltk_data...\n",
            "       |   Unzipping corpora/pl196x.zip.\n",
            "       | Downloading package porter_test to /root/nltk_data...\n",
            "       |   Unzipping stemmers/porter_test.zip.\n",
            "       | Downloading package ppattach to /root/nltk_data...\n",
            "       |   Unzipping corpora/ppattach.zip.\n",
            "       | Downloading package problem_reports to /root/nltk_data...\n",
            "       |   Unzipping corpora/problem_reports.zip.\n",
            "       | Downloading package product_reviews_1 to /root/nltk_data...\n",
            "       |   Unzipping corpora/product_reviews_1.zip.\n",
            "       | Downloading package product_reviews_2 to /root/nltk_data...\n",
            "       |   Unzipping corpora/product_reviews_2.zip.\n",
            "       | Downloading package propbank to /root/nltk_data...\n",
            "       | Downloading package pros_cons to /root/nltk_data...\n",
            "       |   Unzipping corpora/pros_cons.zip.\n",
            "       | Downloading package ptb to /root/nltk_data...\n",
            "       |   Unzipping corpora/ptb.zip.\n",
            "       | Downloading package punkt to /root/nltk_data...\n",
            "       |   Unzipping tokenizers/punkt.zip.\n",
            "       | Downloading package qc to /root/nltk_data...\n",
            "       |   Unzipping corpora/qc.zip.\n",
            "       | Downloading package reuters to /root/nltk_data...\n",
            "       | Downloading package rslp to /root/nltk_data...\n",
            "       |   Unzipping stemmers/rslp.zip.\n",
            "       | Downloading package rte to /root/nltk_data...\n",
            "       |   Unzipping corpora/rte.zip.\n",
            "       | Downloading package sample_grammars to /root/nltk_data...\n",
            "       |   Unzipping grammars/sample_grammars.zip.\n",
            "       | Downloading package semcor to /root/nltk_data...\n",
            "       | Downloading package senseval to /root/nltk_data...\n",
            "       |   Unzipping corpora/senseval.zip.\n",
            "       | Downloading package sentence_polarity to /root/nltk_data...\n",
            "       |   Unzipping corpora/sentence_polarity.zip.\n",
            "       | Downloading package sentiwordnet to /root/nltk_data...\n",
            "       |   Unzipping corpora/sentiwordnet.zip.\n",
            "       | Downloading package shakespeare to /root/nltk_data...\n",
            "       |   Unzipping corpora/shakespeare.zip.\n",
            "       | Downloading package sinica_treebank to /root/nltk_data...\n",
            "       |   Unzipping corpora/sinica_treebank.zip.\n",
            "       | Downloading package smultron to /root/nltk_data...\n",
            "       |   Unzipping corpora/smultron.zip.\n",
            "       | Downloading package snowball_data to /root/nltk_data...\n",
            "       | Downloading package spanish_grammars to /root/nltk_data...\n",
            "       |   Unzipping grammars/spanish_grammars.zip.\n",
            "       | Downloading package state_union to /root/nltk_data...\n",
            "       |   Unzipping corpora/state_union.zip.\n",
            "       | Downloading package stopwords to /root/nltk_data...\n",
            "       |   Unzipping corpora/stopwords.zip.\n",
            "       | Downloading package subjectivity to /root/nltk_data...\n",
            "       |   Unzipping corpora/subjectivity.zip.\n",
            "       | Downloading package swadesh to /root/nltk_data...\n",
            "       |   Unzipping corpora/swadesh.zip.\n",
            "       | Downloading package switchboard to /root/nltk_data...\n",
            "       |   Unzipping corpora/switchboard.zip.\n",
            "       | Downloading package tagsets to /root/nltk_data...\n",
            "       |   Unzipping help/tagsets.zip.\n",
            "       | Downloading package timit to /root/nltk_data...\n",
            "       |   Unzipping corpora/timit.zip.\n",
            "       | Downloading package toolbox to /root/nltk_data...\n",
            "       |   Unzipping corpora/toolbox.zip.\n",
            "       | Downloading package treebank to /root/nltk_data...\n",
            "       |   Unzipping corpora/treebank.zip.\n",
            "       | Downloading package twitter_samples to /root/nltk_data...\n",
            "       |   Unzipping corpora/twitter_samples.zip.\n",
            "       | Downloading package udhr to /root/nltk_data...\n",
            "       |   Unzipping corpora/udhr.zip.\n",
            "       | Downloading package udhr2 to /root/nltk_data...\n",
            "       |   Unzipping corpora/udhr2.zip.\n",
            "       | Downloading package unicode_samples to /root/nltk_data...\n",
            "       |   Unzipping corpora/unicode_samples.zip.\n",
            "       | Downloading package universal_tagset to /root/nltk_data...\n",
            "       |   Unzipping taggers/universal_tagset.zip.\n",
            "       | Downloading package universal_treebanks_v20 to\n",
            "       |     /root/nltk_data...\n",
            "       | Downloading package vader_lexicon to /root/nltk_data...\n",
            "       | Downloading package verbnet to /root/nltk_data...\n",
            "       |   Unzipping corpora/verbnet.zip.\n",
            "       | Downloading package verbnet3 to /root/nltk_data...\n",
            "       |   Unzipping corpora/verbnet3.zip.\n",
            "       | Downloading package webtext to /root/nltk_data...\n",
            "       |   Unzipping corpora/webtext.zip.\n",
            "       | Downloading package wmt15_eval to /root/nltk_data...\n",
            "       |   Unzipping models/wmt15_eval.zip.\n",
            "       | Downloading package word2vec_sample to /root/nltk_data...\n",
            "       |   Unzipping models/word2vec_sample.zip.\n",
            "       | Downloading package wordnet to /root/nltk_data...\n",
            "       | Downloading package wordnet2021 to /root/nltk_data...\n",
            "       | Downloading package wordnet31 to /root/nltk_data...\n",
            "       | Downloading package wordnet_ic to /root/nltk_data...\n",
            "       |   Unzipping corpora/wordnet_ic.zip.\n",
            "       | Downloading package words to /root/nltk_data...\n",
            "       |   Unzipping corpora/words.zip.\n",
            "       | Downloading package ycoe to /root/nltk_data...\n",
            "       |   Unzipping corpora/ycoe.zip.\n",
            "       | \n",
            "     Done downloading collection all\n"
          ]
        },
        {
          "name": "stdout",
          "output_type": "stream",
          "text": [
            "\n",
            "---------------------------------------------------------------------------\n",
            "    d) Download   l) List    u) Update   c) Config   h) Help   q) Quit\n",
            "---------------------------------------------------------------------------\n",
            "Downloader> q\n"
          ]
        },
        {
          "output_type": "execute_result",
          "data": {
            "text/plain": [
              "True"
            ]
          },
          "metadata": {},
          "execution_count": 28
        }
      ]
    },
    {
      "cell_type": "code",
      "execution_count": 54,
      "id": "3ea0249c",
      "metadata": {
        "id": "3ea0249c"
      },
      "outputs": [],
      "source": [
        "import csv\n",
        "import re\n",
        "import nltk\n",
        "import string\n",
        "import math\n",
        "import numpy as np\n",
        "import sklearn\n",
        "from nltk.corpus import stopwords\n",
        "from pprint import pprint\n",
        "from termcolor import colored\n",
        "from sklearn.metrics import precision_recall_fscore_support"
      ]
    },
    {
      "cell_type": "code",
      "execution_count": 55,
      "id": "7afb16ed",
      "metadata": {
        "id": "7afb16ed"
      },
      "outputs": [],
      "source": [
        "#tempaltes for printing \n",
        "printReverseGreen = lambda x : print(colored(x,'green',attrs=['reverse','bold']))\n",
        "printReverseRed = lambda x : print(colored(x,'red',attrs=['reverse','bold']))"
      ]
    },
    {
      "cell_type": "code",
      "execution_count": 56,
      "id": "8047fa4b",
      "metadata": {
        "id": "8047fa4b"
      },
      "outputs": [],
      "source": [
        "def printDataset(data,row):\n",
        "    for i in range(row):\n",
        "        printReverseRed('Row '+str(i))\n",
        "        for attr in data[i]:\n",
        "            print(attr)"
      ]
    },
    {
      "cell_type": "code",
      "execution_count": 57,
      "id": "f63b2370",
      "metadata": {
        "id": "f63b2370"
      },
      "outputs": [],
      "source": [
        "def createDataset(fname):\n",
        "    #reading dataset\n",
        "    lol=list(csv.reader(open(fname), delimiter=':'))\n",
        "    tarClass=list(set([e[0] for e in lol]))\n",
        "    tarClass.sort()\n",
        "    tarClass_map=dict(zip(tarClass,range(len(tarClass))))\n",
        "    printReverseGreen(\"Mapping for target class\")\n",
        "    print(tarClass_map) \n",
        "    #Mapping target class to numeric value\n",
        "    data=[[tarClass_map[row[0]],\" \".join(row[1].split()[1:]),None,None,None,None] for row in lol]\n",
        "    #removing punctuation and numeric value from question and generating vocab\n",
        "    vocab=[]\n",
        "    for row in data:\n",
        "        questn=[word.lower() for word in re.sub('[^a-zA-Z]', ' ',row[1]).split() if len(word)>1]\n",
        "        row[2]=questn\n",
        "        row[3]=len(questn)\n",
        "        vocab.extend(questn)\n",
        "    #creating ngram \n",
        "    ngram=list(nltk.ngrams(vocab,1))\n",
        "    #counting a ngram\n",
        "    ngramFreq={}\n",
        "    for e in ngram:\n",
        "        if \" \".join(e) in ngramFreq:ngramFreq[\" \".join(e)]+=1\n",
        "        else:ngramFreq[\" \".join(e)]=1\n",
        "    #sorting in decreasing order \n",
        "    ngramFreq=sorted(ngramFreq.items(),key=lambda x:x[1],reverse=True)\n",
        "    #selecting top 500 from sorted list\n",
        "    moFreq500=[e[0] for e in ngramFreq[:500]]\n",
        "    #converting ngramFreq again back to dictionary from list of tuples\n",
        "    ngramFreq=dict(ngramFreq)\n",
        "    printReverseGreen(\"Datatset Attribute\")\n",
        "    print(\"-\"*120)\n",
        "    print(\"| Targte class | Raw Question | Question After preprocessing | length of question | Lexical | syntactical |\")\n",
        "    print(\"-\"*120)\n",
        "    printReverseGreen(\"first 5 rows from dataset after processing the question\")\n",
        "    printDataset(data,5)\n",
        "    #extracting lexical and syntactic data\n",
        "    for row in data:\n",
        "        lexical=[]\n",
        "        syntax=[]\n",
        "        for word in row[2]:\n",
        "            if word in moFreq500:\n",
        "                lexical.append(word)\n",
        "                syntax.append(nltk.pos_tag([word])[0][1])\n",
        "        row[4]=lexical\n",
        "        row[5]=syntax\n",
        "    printReverseGreen(\"first 5 rows from dataset after extracting lexical and syntactic data\")\n",
        "    printDataset(data,5)\n",
        "    return tarClass_map,ngramFreq,moFreq500,data"
      ]
    },
    {
      "cell_type": "code",
      "execution_count": 58,
      "id": "0d06d27d",
      "metadata": {
        "id": "0d06d27d"
      },
      "outputs": [],
      "source": [
        "def probWordGivenTarClass(data,word,column_no,tarClass,vocab_length):\n",
        "    tarClass_rows=[questn for questn in data if questn[0]==tarClass]\n",
        "    count_word_given_tarClass=sum([row[column_no].count(word) for row in tarClass_rows])\n",
        "    return (count_word_given_tarClass+1)/(len(tarClass_rows)+vocab_length)"
      ]
    },
    {
      "cell_type": "code",
      "execution_count": 59,
      "id": "fad47a16",
      "metadata": {
        "id": "fad47a16"
      },
      "outputs": [],
      "source": [
        "def probWordsGivenTarClasses(tarClasses,column_no,data,words):\n",
        "    map_probWordGivenTarClass={}\n",
        "    for word in words:\n",
        "        map={}\n",
        "        for tarClass in tarClasses:\n",
        "            map[tarClass]=probWordGivenTarClass(data,word,column_no,tarClass,len(words))\n",
        "        map_probWordGivenTarClass[word]=map\n",
        "    return map_probWordGivenTarClass"
      ]
    },
    {
      "cell_type": "code",
      "execution_count": 60,
      "id": "98f99e6c",
      "metadata": {
        "id": "98f99e6c"
      },
      "outputs": [],
      "source": [
        "def trainCalculateColProbs(data,mpwgtc,mppgtc):\n",
        "    for row in data:\n",
        "        row[4]=np.product([mpwgtc[word][row[0]] for word in row[4]])\n",
        "        row[5]=np.product([mppgtc[word][row[0]] for word in row[5]])\n",
        "    printReverseGreen(\"first 5 rows from training dataset after probability calculations\")\n",
        "    printDataset(data,5)\n",
        "    return data"
      ]
    },
    {
      "cell_type": "code",
      "execution_count": 61,
      "id": "951dd9b6",
      "metadata": {
        "id": "951dd9b6"
      },
      "outputs": [],
      "source": [
        "def testCalculateColProbs(data,mpwgtc,mppgtc):\n",
        "    for row in data:\n",
        "        row[4]=np.product([max(mpwgtc[word].values()) if word in mpwgtc else 1 for word in row[4]])\n",
        "        row[5]=np.product([max(mppgtc[word].values()) if word in mppgtc else 1 for word in row[5]])\n",
        "    printReverseGreen(\"first 5 rows from testing dataset after probability calculations\")\n",
        "    printDataset(data,5)\n",
        "    return data\n"
      ]
    },
    {
      "cell_type": "code",
      "execution_count": 62,
      "id": "aa643406",
      "metadata": {
        "id": "aa643406"
      },
      "outputs": [],
      "source": [
        "def bestSplit(data,algorithm):\n",
        "    transpose_data=np.array(data).T.tolist()\n",
        "    impurity_attribute=[]\n",
        "    #print(len(data))\n",
        "    for i in range(1,len(transpose_data)):\n",
        "        data=transpose_data[i]\n",
        "        data_target=list(zip(data,transpose_data[0]))\n",
        "        unique_data=list(set(data))\n",
        "        unique_data.sort()\n",
        "        #print(\"unique_data\",unique_data)\n",
        "        split_position=[(unique_data[i]+unique_data[i+1])/2 for i in range(len(unique_data)-1)]\n",
        "        if len(unique_data)==1:\n",
        "            split_position=[unique_data[0]]\n",
        "        #print(\"split positions\",split_position)\n",
        "        impurity=[]\n",
        "        minGiniSplit=1\n",
        "        for position in split_position:\n",
        "            le=[]\n",
        "            le_target_frequency={}\n",
        "            gt=[]\n",
        "            gt_target_frequency={}\n",
        "            for row in data_target:\n",
        "                if row[0]<=position:le.append(row)\n",
        "                else:gt.append(row)\n",
        "            for target in tarClass_map.values():\n",
        "                le_target_frequency[target]=0\n",
        "                gt_target_frequency[target]=0\n",
        "            for row in le:\n",
        "                le_target_frequency[row[1]]+=1\n",
        "            for row in gt:\n",
        "                gt_target_frequency[row[1]]+=1\n",
        "            le.append(None)\n",
        "            gt.append(None)\n",
        "            #gini\n",
        "            if algorithm==\"gini\":\n",
        "                algorithm_le=1-sum([(e[1]/len(le))**2 for e in le_target_frequency.items()])\n",
        "                algorithm_gt=1-sum([(e[1]/len(gt))**2 for e in gt_target_frequency.items()])\n",
        "                algorithm_split=(len(le)/(len(le)+len(gt)))*algorithm_le+(len(gt)/(len(le)+len(gt)))*algorithm_gt\n",
        "            #entropy\n",
        "            if algorithm==\"entropy\":\n",
        "                algorithm_le=sum([-1*(e[1]/len(le))*math.log2((e[1]+1)/len(le)) for e in le_target_frequency.items()])\n",
        "                algorithm_gt=sum([-1*(e[1]/len(gt))*math.log2((e[1]+1)/len(gt)) for e in gt_target_frequency.items()])\n",
        "                algorithm_split=(len(le)/(len(le)+len(gt)))*algorithm_le+(len(gt)/(len(le)+len(gt)))*algorithm_gt\n",
        "            #classification error\n",
        "            if algorithm==\"ce\":\n",
        "                algorithm_le=1-max([e[1]/len(le) for e in le_target_frequency.items()])\n",
        "                algorithm_gt=1-max([e[1]/len(gt) for e in gt_target_frequency.items()])\n",
        "                algorithm_split=(len(le)/(len(le)+len(gt)))*algorithm_le+(len(gt)/(len(le)+len(gt)))*algorithm_gt\n",
        "            tarClass=None\n",
        "            '''\n",
        "            if int(algorithm_split)==0:\n",
        "                for e in tarClass_map.values():\n",
        "                    if le_target_frequency[e]+gt_target_frequency[e]==len(data_target):\n",
        "                        tarClass=e\n",
        "            '''\n",
        "            target_frequency=[[e,le_target_frequency[e]+gt_target_frequency[e]] for e in tarClass_map.values()]\n",
        "            tarClass=sorted(target_frequency,key=lambda x:x[1],reverse=True)[0][0]\n",
        "            impurity.append([i,position,algorithm_split,tarClass])\n",
        "        #print(\"impurity\",impurity)\n",
        "        #print(\"tarClass\",tarClass)\n",
        "        impurity_attribute.append(sorted(impurity,key=lambda x:x[2])[0])\n",
        "        #print(\"impurity attribute\",impurity_attribute)\n",
        "        #if tarClass:break\n",
        "    return sorted(impurity_attribute,key=lambda x:x[2])[0]"
      ]
    },
    {
      "cell_type": "code",
      "execution_count": 63,
      "id": "50473cea",
      "metadata": {
        "id": "50473cea"
      },
      "outputs": [],
      "source": [
        "class node:\n",
        "    def __init__(self,data):\n",
        "        self.attr=None\n",
        "        self.val=None\n",
        "        self.impurity=None\n",
        "        self.data=data\n",
        "        self.left=None\n",
        "        self.right=None\n",
        "        self.tarClass=None"
      ]
    },
    {
      "cell_type": "code",
      "execution_count": 64,
      "id": "65625cb0",
      "metadata": {
        "id": "65625cb0"
      },
      "outputs": [],
      "source": [
        "def bulidTree(train_data,algorithm):\n",
        "    start=node(train_data)\n",
        "    level=[start]\n",
        "    cnt=0\n",
        "    while level:\n",
        "        cur=level[0]\n",
        "        #if len(cur.data)>1:\n",
        "        decision=bestSplit(cur.data,algorithm)\n",
        "        cur.attr=decision[0]\n",
        "        cur.val=decision[1]\n",
        "        cur.impurity=decision[2]\n",
        "        cur.tarClass=decision[3]\n",
        "        #if len(cur.data)==1:\n",
        "        #cur.tarClass=cur.data[0][0]\n",
        "        #cur.impurity=0\n",
        "        if cur.impurity!=0:\n",
        "            left=[row for row in cur.data if row[cur.attr]<=cur.val]\n",
        "            right=[row for row in cur.data if row[cur.attr]>cur.val]\n",
        "            if left:\n",
        "                cur.left=node(left)\n",
        "                level.append(cur.left)\n",
        "            if right:\n",
        "                cur.right=node(right)\n",
        "                level.append(cur.right)\n",
        "        level.pop(0)\n",
        "        cnt+=1\n",
        "        if cnt==20000:\n",
        "           break\n",
        "    return start"
      ]
    },
    {
      "cell_type": "code",
      "execution_count": 65,
      "id": "8cab57dc",
      "metadata": {
        "id": "8cab57dc"
      },
      "outputs": [],
      "source": [
        "def decisionTreeClassifier(start,attributes):\n",
        "    cur=start\n",
        "    tarClass=None\n",
        "    while cur and cur.attr:\n",
        "        #print(\"current attribute\",cur.attr)\n",
        "        if attributes[cur.attr-1]<=cur.val:\n",
        "            tarClass=cur.tarClass\n",
        "            cur=cur.left\n",
        "        else:\n",
        "            tarClass=cur.tarClass\n",
        "            cur=cur.right\n",
        "    return tarClass"
      ]
    },
    {
      "cell_type": "code",
      "execution_count": 66,
      "id": "43d606d2",
      "metadata": {
        "colab": {
          "base_uri": "https://localhost:8080/"
        },
        "id": "43d606d2",
        "outputId": "9525a4a3-36b4-4e33-81af-d9f5354e9c78"
      },
      "outputs": [
        {
          "output_type": "stream",
          "name": "stdout",
          "text": [
            "Mapping for target class\n",
            "{'ABBR': 0, 'DESC': 1, 'ENTY': 2, 'HUM': 3, 'LOC': 4, 'NUM': 5}\n",
            "Datatset Attribute\n",
            "------------------------------------------------------------------------------------------------------------------------\n",
            "| Targte class | Raw Question | Question After preprocessing | length of question | Lexical | syntactical |\n",
            "------------------------------------------------------------------------------------------------------------------------\n",
            "first 5 rows from dataset after processing the question\n",
            "Row 0\n",
            "1\n",
            "How did serfdom develop in and then leave Russia ?\n",
            "['how', 'did', 'serfdom', 'develop', 'in', 'and', 'then', 'leave', 'russia']\n",
            "9\n",
            "None\n",
            "None\n",
            "Row 1\n",
            "2\n",
            "What films featured the character Popeye Doyle ?\n",
            "['what', 'films', 'featured', 'the', 'character', 'popeye', 'doyle']\n",
            "7\n",
            "None\n",
            "None\n",
            "Row 2\n",
            "1\n",
            "How can I find a list of celebrities ' real names ?\n",
            "['how', 'can', 'find', 'list', 'of', 'celebrities', 'real', 'names']\n",
            "8\n",
            "None\n",
            "None\n",
            "Row 3\n",
            "2\n",
            "What fowl grabs the spotlight after the Chinese Year of the Monkey ?\n",
            "['what', 'fowl', 'grabs', 'the', 'spotlight', 'after', 'the', 'chinese', 'year', 'of', 'the', 'monkey']\n",
            "12\n",
            "None\n",
            "None\n",
            "Row 4\n",
            "0\n",
            "What is the full form of .com ?\n",
            "['what', 'is', 'the', 'full', 'form', 'of', 'com']\n",
            "7\n",
            "None\n",
            "None\n",
            "first 5 rows from dataset after extracting lexical and syntactic data\n",
            "Row 0\n",
            "1\n",
            "How did serfdom develop in and then leave Russia ?\n",
            "['how', 'did', 'serfdom', 'develop', 'in', 'and', 'then', 'leave', 'russia']\n",
            "9\n",
            "['how', 'did', 'in', 'and', 'then']\n",
            "['WRB', 'VBD', 'IN', 'CC', 'RB']\n",
            "Row 1\n",
            "2\n",
            "What films featured the character Popeye Doyle ?\n",
            "['what', 'films', 'featured', 'the', 'character', 'popeye', 'doyle']\n",
            "7\n",
            "['what', 'the', 'character']\n",
            "['WP', 'DT', 'NN']\n",
            "Row 2\n",
            "1\n",
            "How can I find a list of celebrities ' real names ?\n",
            "['how', 'can', 'find', 'list', 'of', 'celebrities', 'real', 'names']\n",
            "8\n",
            "['how', 'can', 'find', 'list', 'of', 'real', 'names']\n",
            "['WRB', 'MD', 'VB', 'NN', 'IN', 'JJ', 'NNS']\n",
            "Row 3\n",
            "2\n",
            "What fowl grabs the spotlight after the Chinese Year of the Monkey ?\n",
            "['what', 'fowl', 'grabs', 'the', 'spotlight', 'after', 'the', 'chinese', 'year', 'of', 'the', 'monkey']\n",
            "12\n",
            "['what', 'the', 'after', 'the', 'chinese', 'year', 'of', 'the']\n",
            "['WP', 'DT', 'IN', 'DT', 'JJ', 'NN', 'IN', 'DT']\n",
            "Row 4\n",
            "0\n",
            "What is the full form of .com ?\n",
            "['what', 'is', 'the', 'full', 'form', 'of', 'com']\n",
            "7\n",
            "['what', 'is', 'the', 'full', 'form', 'of', 'com']\n",
            "['WP', 'VBZ', 'DT', 'JJ', 'NN', 'IN', 'NN']\n"
          ]
        }
      ],
      "source": [
        "#creation of train dataset\n",
        "tarClass_map,train_ngramFreq,train_moFreq500,train_data=createDataset(\"dt_train.csv\")"
      ]
    },
    {
      "cell_type": "code",
      "execution_count": 67,
      "id": "a014ee37",
      "metadata": {
        "id": "a014ee37"
      },
      "outputs": [],
      "source": [
        "#uniques pos from train data\n",
        "unique_pos=set([e for row in train_data for e in row[-1]])"
      ]
    },
    {
      "cell_type": "code",
      "execution_count": 68,
      "id": "3275ed2b",
      "metadata": {
        "id": "3275ed2b"
      },
      "outputs": [],
      "source": [
        "#mapper for word given all target classes\n",
        "map_probWordGivenTarClass=probWordsGivenTarClasses(sorted(tarClass_map.values()),4,train_data,train_moFreq500)"
      ]
    },
    {
      "cell_type": "code",
      "execution_count": 69,
      "id": "a273cad3",
      "metadata": {
        "id": "a273cad3"
      },
      "outputs": [],
      "source": [
        "#mapper for pos given all target classes\n",
        "map_prob_pos_given_tarClass=probWordsGivenTarClasses(sorted(tarClass_map.values()),5,train_data,unique_pos)"
      ]
    },
    {
      "cell_type": "code",
      "execution_count": 70,
      "id": "92f23372",
      "metadata": {
        "colab": {
          "base_uri": "https://localhost:8080/"
        },
        "id": "92f23372",
        "outputId": "2d8156a4-0111-4d6f-e38c-3133c34b0891"
      },
      "outputs": [
        {
          "output_type": "stream",
          "name": "stdout",
          "text": [
            "first 5 rows from training dataset after probability calculations\n",
            "Row 0\n",
            "1\n",
            "How did serfdom develop in and then leave Russia ?\n",
            "['how', 'did', 'serfdom', 'develop', 'in', 'and', 'then', 'leave', 'russia']\n",
            "9\n",
            "7.734196724847904e-08\n",
            "0.00013266783798205007\n",
            "Row 1\n",
            "2\n",
            "What films featured the character Popeye Doyle ?\n",
            "['what', 'films', 'featured', 'the', 'character', 'popeye', 'doyle']\n",
            "7\n",
            "0.0013101844897959183\n",
            "0.7824579360530675\n",
            "Row 2\n",
            "1\n",
            "How can I find a list of celebrities ' real names ?\n",
            "['how', 'can', 'find', 'list', 'of', 'celebrities', 'real', 'names']\n",
            "8\n",
            "2.7404778811929026e-13\n",
            "2.4588954000112153e-05\n",
            "Row 3\n",
            "2\n",
            "What fowl grabs the spotlight after the Chinese Year of the Monkey ?\n",
            "['what', 'fowl', 'grabs', 'the', 'spotlight', 'after', 'the', 'chinese', 'year', 'of', 'the', 'monkey']\n",
            "12\n",
            "4.671329086249706e-10\n",
            "0.08633452119520049\n",
            "Row 4\n",
            "0\n",
            "What is the full form of .com ?\n",
            "['what', 'is', 'the', 'full', 'form', 'of', 'com']\n",
            "7\n",
            "1.75915223862936e-12\n",
            "0.02025786748867755\n"
          ]
        }
      ],
      "source": [
        "#calculate the probabilities for lexical and syntactical attribute\n",
        "train_data_after_prob_cal=trainCalculateColProbs(train_data,map_probWordGivenTarClass,map_prob_pos_given_tarClass)"
      ]
    },
    {
      "cell_type": "code",
      "execution_count": 71,
      "id": "3597b1f6",
      "metadata": {
        "id": "3597b1f6"
      },
      "outputs": [],
      "source": [
        "#selecting only target class,length,lexical,synatax attribute\n",
        "train_data=[[row[0],row[3],row[4],row[5]] for row in train_data_after_prob_cal]"
      ]
    },
    {
      "cell_type": "code",
      "execution_count": 72,
      "id": "9e92404d",
      "metadata": {
        "colab": {
          "base_uri": "https://localhost:8080/"
        },
        "id": "9e92404d",
        "outputId": "55c9b8a2-6293-4217-973e-d1c3117976bd"
      },
      "outputs": [
        {
          "output_type": "stream",
          "name": "stdout",
          "text": [
            "Mapping for target class\n",
            "{'ABBR': 0, 'DESC': 1, 'ENTY': 2, 'HUM': 3, 'LOC': 4, 'NUM': 5}\n",
            "Datatset Attribute\n",
            "------------------------------------------------------------------------------------------------------------------------\n",
            "| Targte class | Raw Question | Question After preprocessing | length of question | Lexical | syntactical |\n",
            "------------------------------------------------------------------------------------------------------------------------\n",
            "first 5 rows from dataset after processing the question\n",
            "Row 0\n",
            "5\n",
            "How far is it from Denver to Aspen ?\n",
            "['how', 'far', 'is', 'it', 'from', 'denver', 'to', 'aspen']\n",
            "8\n",
            "None\n",
            "None\n",
            "Row 1\n",
            "4\n",
            "What county is Modesto , California in ?\n",
            "['what', 'county', 'is', 'modesto', 'california', 'in']\n",
            "6\n",
            "None\n",
            "None\n",
            "Row 2\n",
            "3\n",
            "Who was Galileo ?\n",
            "['who', 'was', 'galileo']\n",
            "3\n",
            "None\n",
            "None\n",
            "Row 3\n",
            "1\n",
            "What is an atom ?\n",
            "['what', 'is', 'an', 'atom']\n",
            "4\n",
            "None\n",
            "None\n",
            "Row 4\n",
            "5\n",
            "When did Hawaii become a state ?\n",
            "['when', 'did', 'hawaii', 'become', 'state']\n",
            "5\n",
            "None\n",
            "None\n",
            "first 5 rows from dataset after extracting lexical and syntactic data\n",
            "Row 0\n",
            "5\n",
            "How far is it from Denver to Aspen ?\n",
            "['how', 'far', 'is', 'it', 'from', 'denver', 'to', 'aspen']\n",
            "8\n",
            "['how', 'far', 'is', 'it', 'from', 'denver', 'to', 'aspen']\n",
            "['WRB', 'RB', 'VBZ', 'PRP', 'IN', 'NN', 'TO', 'VB']\n",
            "Row 1\n",
            "4\n",
            "What county is Modesto , California in ?\n",
            "['what', 'county', 'is', 'modesto', 'california', 'in']\n",
            "6\n",
            "['what', 'county', 'is', 'modesto', 'california', 'in']\n",
            "['WP', 'NN', 'VBZ', 'NN', 'NN', 'IN']\n",
            "Row 2\n",
            "3\n",
            "Who was Galileo ?\n",
            "['who', 'was', 'galileo']\n",
            "3\n",
            "['who', 'was', 'galileo']\n",
            "['WP', 'VBD', 'NN']\n",
            "Row 3\n",
            "1\n",
            "What is an atom ?\n",
            "['what', 'is', 'an', 'atom']\n",
            "4\n",
            "['what', 'is', 'an', 'atom']\n",
            "['WP', 'VBZ', 'DT', 'NN']\n",
            "Row 4\n",
            "5\n",
            "When did Hawaii become a state ?\n",
            "['when', 'did', 'hawaii', 'become', 'state']\n",
            "5\n",
            "['when', 'did', 'hawaii', 'become', 'state']\n",
            "['WRB', 'VBD', 'NN', 'NN', 'NN']\n"
          ]
        }
      ],
      "source": [
        "#creation of test dataset\n",
        "tarClass_map,test_ngramFreq,test_moFreq500,test_data=createDataset(\"dt_test.csv\")"
      ]
    },
    {
      "cell_type": "code",
      "execution_count": 73,
      "id": "c6f3b888",
      "metadata": {
        "id": "c6f3b888"
      },
      "outputs": [],
      "source": [
        "#unique pos from test data\n",
        "unique_pos=set([e for row in test_data for e in row[-1]])"
      ]
    },
    {
      "cell_type": "code",
      "execution_count": 74,
      "id": "6c7db8ec",
      "metadata": {
        "colab": {
          "base_uri": "https://localhost:8080/"
        },
        "id": "6c7db8ec",
        "outputId": "319de9d8-24bf-4a58-f297-b5534e6d7fa7"
      },
      "outputs": [
        {
          "output_type": "stream",
          "name": "stdout",
          "text": [
            "first 5 rows from testing dataset after probability calculations\n",
            "Row 0\n",
            "5\n",
            "How far is it from Denver to Aspen ?\n",
            "['how', 'far', 'is', 'it', 'from', 'denver', 'to', 'aspen']\n",
            "8\n",
            "5.4853999922335294e-08\n",
            "0.0008350159563586373\n",
            "Row 1\n",
            "4\n",
            "What county is Modesto , California in ?\n",
            "['what', 'county', 'is', 'modesto', 'california', 'in']\n",
            "6\n",
            "1.1856409585819994e-06\n",
            "1.5584426076095899\n",
            "Row 2\n",
            "3\n",
            "Who was Galileo ?\n",
            "['who', 'was', 'galileo']\n",
            "3\n",
            "0.058518982365854205\n",
            "0.469523748848022\n",
            "Row 3\n",
            "1\n",
            "What is an atom ?\n",
            "['what', 'is', 'an', 'atom']\n",
            "4\n",
            "0.005470750385762961\n",
            "0.7515745108399025\n",
            "Row 4\n",
            "5\n",
            "When did Hawaii become a state ?\n",
            "['when', 'did', 'hawaii', 'become', 'state']\n",
            "5\n",
            "2.907471246516451e-06\n",
            "0.6002377132007415\n"
          ]
        },
        {
          "output_type": "stream",
          "name": "stderr",
          "text": [
            "/usr/local/lib/python3.7/dist-packages/ipykernel_launcher.py:3: VisibleDeprecationWarning: Creating an ndarray from ragged nested sequences (which is a list-or-tuple of lists-or-tuples-or ndarrays with different lengths or shapes) is deprecated. If you meant to do this, you must specify 'dtype=object' when creating the ndarray.\n",
            "  This is separate from the ipykernel package so we can avoid doing imports until\n"
          ]
        }
      ],
      "source": [
        "#calculate the probabilities for lexical and syntactical attribute\n",
        "test_data_after_prob_cal=testCalculateColProbs(test_data,map_probWordGivenTarClass,map_prob_pos_given_tarClass)\n",
        "actual_target=np.array(test_data_after_prob_cal).T.tolist()[0]\n",
        "test_predicted_algorithm=[]"
      ]
    },
    {
      "cell_type": "code",
      "execution_count": 75,
      "id": "13d2c954",
      "metadata": {
        "colab": {
          "base_uri": "https://localhost:8080/"
        },
        "id": "13d2c954",
        "outputId": "d5b3e27d-3e71-4d41-803e-c34736ed725c"
      },
      "outputs": [
        {
          "output_type": "stream",
          "name": "stdout",
          "text": [
            "gini\n",
            "Building Tree ...\n",
            "Predicting test data ...\n",
            "Accuracy 15.0\n",
            "          ABBR 0| DESC 1| ENTY 2| HUM 3| LOC 4| NUM 5\n",
            "precision [0.0, 0.18, 0.11920529801324503, 0.14213197969543148, 0.17142857142857143, 0.26666666666666666]\n",
            "recall [0.0, 0.06521739130434782, 0.19148936170212766, 0.4307692307692308, 0.14814814814814814, 0.07079646017699115]\n",
            "f-score [0.0, 0.09574468085106382, 0.1469387755102041, 0.2137404580152672, 0.15894039735099338, 0.11188811188811189]\n",
            "support [9, 138, 94, 65, 81, 113]\n",
            "entropy\n",
            "Building Tree ...\n",
            "Predicting test data ...\n",
            "Accuracy 16.6\n",
            "          ABBR 0| DESC 1| ENTY 2| HUM 3| LOC 4| NUM 5\n",
            "precision [0.0, 0.23255813953488372, 0.14507772020725387, 0.1568627450980392, 0.2033898305084746, 0.23076923076923078]\n",
            "recall [0.0, 0.07246376811594203, 0.2978723404255319, 0.36923076923076925, 0.14814814814814814, 0.07964601769911504]\n",
            "f-score [0.0, 0.11049723756906078, 0.19512195121951217, 0.22018348623853212, 0.17142857142857143, 0.11842105263157895]\n",
            "support [9, 138, 94, 65, 81, 113]\n",
            "ce\n",
            "Building Tree ...\n",
            "Predicting test data ...\n",
            "Accuracy 18.6\n",
            "          ABBR 0| DESC 1| ENTY 2| HUM 3| LOC 4| NUM 5\n",
            "precision [0.015625, 0.35135135135135137, 0.19402985074626866, 0.15, 0.2028985507246377, 0.20512820512820512]\n",
            "recall [0.1111111111111111, 0.18840579710144928, 0.2765957446808511, 0.27692307692307694, 0.1728395061728395, 0.07079646017699115]\n",
            "f-score [0.0273972602739726, 0.24528301886792453, 0.2280701754385965, 0.19459459459459458, 0.18666666666666665, 0.10526315789473684]\n",
            "support [9, 138, 94, 65, 81, 113]\n"
          ]
        }
      ],
      "source": [
        "for algorithm in [\"gini\",\"entropy\",\"ce\"]:\n",
        "    printReverseRed(algorithm)\n",
        "    #build tree\n",
        "    printReverseGreen(\"Building Tree ...\")\n",
        "    start=bulidTree(train_data,algorithm)\n",
        "#     prediction\n",
        "    printReverseGreen(\"Predicting test data ...\")\n",
        "    test_predicted=[]\n",
        "    for questn in test_data_after_prob_cal:\n",
        "        test_predicted.append(decisionTreeClassifier(start,[questn[3],questn[4],questn[5]]))\n",
        "    cnt=0\n",
        "    for i in range(len(actual_target)):\n",
        "        if actual_target[i]==test_predicted[i]:\n",
        "            cnt+=1\n",
        "    print(\"Accuracy\",cnt/len(test_predicted)*100)\n",
        "    #calculating precision,recall,fscore\n",
        "    metric=precision_recall_fscore_support(actual_target,test_predicted,labels=range(len(tarClass_map)))\n",
        "    printReverseGreen(\" \"*10+\"| \".join([e[0]+\" \"+str(e[1]) for e in tarClass_map.items()]))\n",
        "    metric_name=['precision','recall','f-score','support']\n",
        "    for i  in range(len(metric)):\n",
        "        print(metric_name[i],metric[i].tolist())\n",
        "    test_predicted_algorithm.append(test_predicted)"
      ]
    },
    {
      "cell_type": "code",
      "execution_count": 76,
      "id": "93c3ad08",
      "metadata": {
        "id": "93c3ad08"
      },
      "outputs": [],
      "source": [
        "#Observe how many samples are mis-classified using gini index based\n",
        "#model but correctly classified by mis-classification error and\n",
        "#cross-entropy based model.\n",
        "false_gini_true_entropy=0\n",
        "false_gini_true_ce=0"
      ]
    },
    {
      "cell_type": "code",
      "execution_count": 78,
      "id": "6cbb02ea",
      "metadata": {
        "id": "6cbb02ea"
      },
      "outputs": [],
      "source": [
        "for i in range(len(test_predicted)):\n",
        "    if test_predicted_algo[0][i]!=actual_target[i] and test_predicted_algo[1][i]==actual_target[i]:\n",
        "        false_gini_true_entropy+=1\n",
        "    if test_predicted_algo[0][i]!=actual_target[i] and test_predicted_algo[2][i]==actual_target[i]:\n",
        "        false_gini_true_ce+=1"
      ]
    },
    {
      "cell_type": "code",
      "execution_count": 79,
      "id": "cad9079d",
      "metadata": {
        "colab": {
          "base_uri": "https://localhost:8080/"
        },
        "id": "cad9079d",
        "outputId": "1583707a-bd37-4fb1-8be7-fe86011c3330"
      },
      "outputs": [
        {
          "output_type": "stream",
          "name": "stdout",
          "text": [
            "samples misclassfied by Gini but correctly classified by entropy 38\n",
            "samples misclassfied by Gini but correctly classified by Classification Error 57\n"
          ]
        }
      ],
      "source": [
        "print(\"samples misclassfied by Gini but correctly classified by entropy\",false_gini_true_entropy)\n",
        "print(\"samples misclassfied by Gini but correctly classified by Classification Error\",false_gini_true_ce)"
      ]
    }
  ],
  "metadata": {
    "kernelspec": {
      "display_name": "Python 3 (ipykernel)",
      "language": "python",
      "name": "python3"
    },
    "language_info": {
      "codemirror_mode": {
        "name": "ipython",
        "version": 3
      },
      "file_extension": ".py",
      "mimetype": "text/x-python",
      "name": "python",
      "nbconvert_exporter": "python",
      "pygments_lexer": "ipython3",
      "version": "3.10.6"
    },
    "colab": {
      "provenance": []
    }
  },
  "nbformat": 4,
  "nbformat_minor": 5
}